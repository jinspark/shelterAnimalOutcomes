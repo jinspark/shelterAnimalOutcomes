{
 "cells": [
  {
   "cell_type": "markdown",
   "metadata": {},
   "source": [
    "# Shelter animal outcomes"
   ]
  },
  {
   "cell_type": "code",
   "execution_count": 1,
   "metadata": {
    "collapsed": false
   },
   "outputs": [],
   "source": [
    "import pandas as pd\n",
    "import numpy as np\n",
    "import seaborn as sns\n",
    "import matplotlib as plt"
   ]
  },
  {
   "cell_type": "markdown",
   "metadata": {},
   "source": [
    "## Data exploration\n",
    "\n",
    "### Load CSV data to dataframe"
   ]
  },
  {
   "cell_type": "code",
   "execution_count": 2,
   "metadata": {
    "collapsed": false,
    "scrolled": false
   },
   "outputs": [
    {
     "name": "stdout",
     "output_type": "stream",
     "text": [
      "['AnimalID', 'Name', 'DateTime', 'OutcomeType', 'OutcomeSubtype', 'AnimalType', 'SexuponOutcome', 'AgeuponOutcome', 'Breed', 'Color']\n"
     ]
    },
    {
     "data": {
      "text/html": [
       "<div>\n",
       "<table border=\"1\" class=\"dataframe\">\n",
       "  <thead>\n",
       "    <tr style=\"text-align: right;\">\n",
       "      <th></th>\n",
       "      <th>DateTime</th>\n",
       "      <th>OutcomeType</th>\n",
       "      <th>AnimalType</th>\n",
       "      <th>SexuponOutcome</th>\n",
       "      <th>AgeuponOutcome</th>\n",
       "      <th>Breed</th>\n",
       "      <th>Color</th>\n",
       "    </tr>\n",
       "  </thead>\n",
       "  <tbody>\n",
       "    <tr>\n",
       "      <th>0</th>\n",
       "      <td>2014-02-12 18:22:00</td>\n",
       "      <td>Return_to_owner</td>\n",
       "      <td>Dog</td>\n",
       "      <td>Neutered Male</td>\n",
       "      <td>1 year</td>\n",
       "      <td>Shetland Sheepdog Mix</td>\n",
       "      <td>Brown/White</td>\n",
       "    </tr>\n",
       "    <tr>\n",
       "      <th>1</th>\n",
       "      <td>2013-10-13 12:44:00</td>\n",
       "      <td>Euthanasia</td>\n",
       "      <td>Cat</td>\n",
       "      <td>Spayed Female</td>\n",
       "      <td>1 year</td>\n",
       "      <td>Domestic Shorthair Mix</td>\n",
       "      <td>Cream Tabby</td>\n",
       "    </tr>\n",
       "    <tr>\n",
       "      <th>2</th>\n",
       "      <td>2015-01-31 12:28:00</td>\n",
       "      <td>Adoption</td>\n",
       "      <td>Dog</td>\n",
       "      <td>Neutered Male</td>\n",
       "      <td>2 years</td>\n",
       "      <td>Pit Bull Mix</td>\n",
       "      <td>Blue/White</td>\n",
       "    </tr>\n",
       "    <tr>\n",
       "      <th>3</th>\n",
       "      <td>2014-07-11 19:09:00</td>\n",
       "      <td>Transfer</td>\n",
       "      <td>Cat</td>\n",
       "      <td>Intact Male</td>\n",
       "      <td>3 weeks</td>\n",
       "      <td>Domestic Shorthair Mix</td>\n",
       "      <td>Blue Cream</td>\n",
       "    </tr>\n",
       "    <tr>\n",
       "      <th>4</th>\n",
       "      <td>2013-11-15 12:52:00</td>\n",
       "      <td>Transfer</td>\n",
       "      <td>Dog</td>\n",
       "      <td>Neutered Male</td>\n",
       "      <td>2 years</td>\n",
       "      <td>Lhasa Apso/Miniature Poodle</td>\n",
       "      <td>Tan</td>\n",
       "    </tr>\n",
       "  </tbody>\n",
       "</table>\n",
       "</div>"
      ],
      "text/plain": [
       "              DateTime      OutcomeType AnimalType SexuponOutcome  \\\n",
       "0  2014-02-12 18:22:00  Return_to_owner        Dog  Neutered Male   \n",
       "1  2013-10-13 12:44:00       Euthanasia        Cat  Spayed Female   \n",
       "2  2015-01-31 12:28:00         Adoption        Dog  Neutered Male   \n",
       "3  2014-07-11 19:09:00         Transfer        Cat    Intact Male   \n",
       "4  2013-11-15 12:52:00         Transfer        Dog  Neutered Male   \n",
       "\n",
       "  AgeuponOutcome                        Breed        Color  \n",
       "0         1 year        Shetland Sheepdog Mix  Brown/White  \n",
       "1         1 year       Domestic Shorthair Mix  Cream Tabby  \n",
       "2        2 years                 Pit Bull Mix   Blue/White  \n",
       "3        3 weeks       Domestic Shorthair Mix   Blue Cream  \n",
       "4        2 years  Lhasa Apso/Miniature Poodle          Tan  "
      ]
     },
     "execution_count": 2,
     "metadata": {},
     "output_type": "execute_result"
    }
   ],
   "source": [
    "train_file = \"train.csv\"\n",
    "with open( train_file, \"rb\" ) as header_file:\n",
    "    headers = header_file.readline().strip().split(',')\n",
    "new_headers = headers[2:4] + headers[5:]\n",
    "print headers\n",
    "train_df = pd.read_csv( train_file, sep = ',', usecols = new_headers )\n",
    "train_df.head( 5 )"
   ]
  },
  {
   "cell_type": "markdown",
   "metadata": {},
   "source": [
    "### Figuring out data type"
   ]
  },
  {
   "cell_type": "code",
   "execution_count": 3,
   "metadata": {
    "collapsed": false
   },
   "outputs": [
    {
     "name": "stdout",
     "output_type": "stream",
     "text": [
      "(26729, 7)\n",
      "(26729, 7)\n",
      "set Age\n",
      "45\n",
      "set(['5 years', '7 months', '13 years', nan, '14 years', '19 years', '1 weeks', '9 months', '1 week', '11 years', '6 months', '1 month', '6 years', '2 months', '5 days', '12 years', '10 years', '5 weeks', '4 weeks', '3 weeks', '20 years', '6 days', '9 years', '16 years', '0 years', '7 years', '8 years', '4 months', '3 months', '2 weeks', '17 years', '18 years', '10 months', '3 years', '4 years', '3 days', '4 days', '11 months', '15 years', '1 year', '5 months', '2 years', '8 months', '1 day', '2 days'])\n",
      "\n",
      "set AnimalType\n",
      "set(['Dog', 'Cat'])\n",
      "\n",
      "set OutcomeType\n",
      "set(['Transfer', 'Adoption', 'Return_to_owner', 'Died', 'Euthanasia'])\n",
      "\n",
      "set SexuponOutcome\n",
      "set([nan, 'Spayed Female', 'Neutered Male', 'Intact Female', 'Unknown', 'Intact Male'])\n",
      "\n",
      "length of set Breed\n",
      "1380\n",
      "\n",
      "length of set Color\n",
      "366\n"
     ]
    }
   ],
   "source": [
    "print train_df.shape\n",
    "#train_df = train_df.dropna()\n",
    "print train_df.shape\n",
    "print \"set Age\"\n",
    "print len(set( train_df['AgeuponOutcome'] ))\n",
    "print set( train_df['AgeuponOutcome'] )\n",
    "print\n",
    "print \"set AnimalType\"\n",
    "print set( train_df['AnimalType'] )\n",
    "print\n",
    "print \"set OutcomeType\"\n",
    "print set( train_df['OutcomeType'] )\n",
    "print\n",
    "print \"set SexuponOutcome\"\n",
    "print set( train_df['SexuponOutcome'] )\n",
    "print\n",
    "print \"length of set Breed\"\n",
    "print len( set( train_df['Breed'] ) )\n",
    "print\n",
    "print \"length of set Color\"\n",
    "print len( set( train_df['Color'] ) )"
   ]
  },
  {
   "cell_type": "markdown",
   "metadata": {},
   "source": [
    "### Age to days"
   ]
  },
  {
   "cell_type": "code",
   "execution_count": 4,
   "metadata": {
    "collapsed": false
   },
   "outputs": [],
   "source": [
    "def age_to_days( str_age, set_nan_value = 0 ):\n",
    "    if type( str_age ) is str:\n",
    "        days = 0\n",
    "        las = str_age.strip().split()\n",
    "        if 'year' in las[1]:\n",
    "            days = int( las[0] ) * 365\n",
    "        elif 'week' in las[1]:\n",
    "            days = int( las[0] ) * 7\n",
    "        elif 'month' in las[1]:\n",
    "            days = int( las[0] ) * 30\n",
    "        elif 'day' in las[1]:\n",
    "            days = int( las[0] )\n",
    "        else:                \n",
    "            raise ValueError( \"'{}' is not in the type list\".format(las[1]) )\n",
    "        return days\n",
    "    elif str_age is np.nan:\n",
    "        return set_nan_value\n",
    "    else:\n",
    "        raise TypeError( \"{} is not supported type\".format(type( str_age )) )"
   ]
  },
  {
   "cell_type": "code",
   "execution_count": 5,
   "metadata": {
    "collapsed": false
   },
   "outputs": [
    {
     "data": {
      "text/html": [
       "<div>\n",
       "<table border=\"1\" class=\"dataframe\">\n",
       "  <thead>\n",
       "    <tr style=\"text-align: right;\">\n",
       "      <th></th>\n",
       "      <th>DateTime</th>\n",
       "      <th>OutcomeType</th>\n",
       "      <th>AnimalType</th>\n",
       "      <th>SexuponOutcome</th>\n",
       "      <th>AgeuponOutcome</th>\n",
       "      <th>Breed</th>\n",
       "      <th>Color</th>\n",
       "    </tr>\n",
       "  </thead>\n",
       "  <tbody>\n",
       "    <tr>\n",
       "      <th>0</th>\n",
       "      <td>2014-02-12 18:22:00</td>\n",
       "      <td>Return_to_owner</td>\n",
       "      <td>Dog</td>\n",
       "      <td>Neutered Male</td>\n",
       "      <td>12</td>\n",
       "      <td>Shetland Sheepdog Mix</td>\n",
       "      <td>Brown/White</td>\n",
       "    </tr>\n",
       "    <tr>\n",
       "      <th>1</th>\n",
       "      <td>2013-10-13 12:44:00</td>\n",
       "      <td>Euthanasia</td>\n",
       "      <td>Cat</td>\n",
       "      <td>Spayed Female</td>\n",
       "      <td>12</td>\n",
       "      <td>Domestic Shorthair Mix</td>\n",
       "      <td>Cream Tabby</td>\n",
       "    </tr>\n",
       "    <tr>\n",
       "      <th>2</th>\n",
       "      <td>2015-01-31 12:28:00</td>\n",
       "      <td>Adoption</td>\n",
       "      <td>Dog</td>\n",
       "      <td>Neutered Male</td>\n",
       "      <td>24</td>\n",
       "      <td>Pit Bull Mix</td>\n",
       "      <td>Blue/White</td>\n",
       "    </tr>\n",
       "    <tr>\n",
       "      <th>3</th>\n",
       "      <td>2014-07-11 19:09:00</td>\n",
       "      <td>Transfer</td>\n",
       "      <td>Cat</td>\n",
       "      <td>Intact Male</td>\n",
       "      <td>0</td>\n",
       "      <td>Domestic Shorthair Mix</td>\n",
       "      <td>Blue Cream</td>\n",
       "    </tr>\n",
       "    <tr>\n",
       "      <th>4</th>\n",
       "      <td>2013-11-15 12:52:00</td>\n",
       "      <td>Transfer</td>\n",
       "      <td>Dog</td>\n",
       "      <td>Neutered Male</td>\n",
       "      <td>24</td>\n",
       "      <td>Lhasa Apso/Miniature Poodle</td>\n",
       "      <td>Tan</td>\n",
       "    </tr>\n",
       "  </tbody>\n",
       "</table>\n",
       "</div>"
      ],
      "text/plain": [
       "              DateTime      OutcomeType AnimalType SexuponOutcome  \\\n",
       "0  2014-02-12 18:22:00  Return_to_owner        Dog  Neutered Male   \n",
       "1  2013-10-13 12:44:00       Euthanasia        Cat  Spayed Female   \n",
       "2  2015-01-31 12:28:00         Adoption        Dog  Neutered Male   \n",
       "3  2014-07-11 19:09:00         Transfer        Cat    Intact Male   \n",
       "4  2013-11-15 12:52:00         Transfer        Dog  Neutered Male   \n",
       "\n",
       "   AgeuponOutcome                        Breed        Color  \n",
       "0              12        Shetland Sheepdog Mix  Brown/White  \n",
       "1              12       Domestic Shorthair Mix  Cream Tabby  \n",
       "2              24                 Pit Bull Mix   Blue/White  \n",
       "3               0       Domestic Shorthair Mix   Blue Cream  \n",
       "4              24  Lhasa Apso/Miniature Poodle          Tan  "
      ]
     },
     "execution_count": 5,
     "metadata": {},
     "output_type": "execute_result"
    }
   ],
   "source": [
    "atod = lambda x: age_to_days( x )\n",
    "dtom = lambda x : x // 30\n",
    "train_df['AgeuponOutcome'] = train_df['AgeuponOutcome'].apply( atod )\n",
    "train_df['AgeuponOutcome'] = train_df['AgeuponOutcome'].apply( dtom )\n",
    "train_df.head(5)"
   ]
  },
  {
   "cell_type": "code",
   "execution_count": 6,
   "metadata": {
    "collapsed": false
   },
   "outputs": [
    {
     "name": "stdout",
     "output_type": "stream",
     "text": [
      "32\n",
      "set([0, 1, 2, 3, 4, 5, 6, 7, 8, 9, 10, 11, 12, 146, 24, 158, 133, 36, 170, 48, 182, 60, 194, 73, 206, 85, 219, 97, 231, 109, 243, 121])\n"
     ]
    }
   ],
   "source": [
    "# the age set length is reduced from 45 to 43 since typos and nan are removed \n",
    "print len( set( train_df['AgeuponOutcome'] ) )\n",
    "print set( train_df['AgeuponOutcome'] )"
   ]
  },
  {
   "cell_type": "code",
   "execution_count": 7,
   "metadata": {
    "collapsed": false,
    "scrolled": false
   },
   "outputs": [
    {
     "name": "stdout",
     "output_type": "stream",
     "text": [
      "366\n",
      "1380\n"
     ]
    }
   ],
   "source": [
    "clc = train_df['Color'].value_counts( )\n",
    "clca = clc[ clc > 10 ]\n",
    "clcb = clc.value_counts()\n",
    "\n",
    "clc_cnt = len( set( train_df[ 'Color' ] ) )\n",
    "print clc_cnt\n",
    "\n",
    "brd = train_df[ 'Breed' ]\n",
    "brd = set( brd )\n",
    "print len( brd )"
   ]
  },
  {
   "cell_type": "markdown",
   "metadata": {},
   "source": [
    "### Label Encoding"
   ]
  },
  {
   "cell_type": "code",
   "execution_count": 8,
   "metadata": {
    "collapsed": false
   },
   "outputs": [
    {
     "name": "stderr",
     "output_type": "stream",
     "text": [
      "C:\\Users\\SJPark\\Anaconda2\\lib\\site-packages\\numpy\\lib\\arraysetops.py:259: FutureWarning: numpy equal will not check object identity in the future. The comparison did not return the same result as suggested by the identity (`is`)) and will change.\n",
      "  return aux[:-1][aux[1:] == aux[:-1]]\n"
     ]
    }
   ],
   "source": [
    "from sklearn.preprocessing import LabelEncoder\n",
    "fit_headers = [ 'OutcomeType', 'AnimalType', 'SexuponOutcome', 'Breed', 'Color' ]\n",
    "lel = [ LabelEncoder() for i in range( len(fit_headers) ) ]\n",
    "fitted_lel = [ l.fit( train_df[ fit_headers[i] ] ) for i, l in enumerate(lel) ]\n",
    "for i, l in enumerate( fitted_lel ):\n",
    "    train_df[fit_headers[i]] = l.transform( train_df[fit_headers[i]] )"
   ]
  },
  {
   "cell_type": "code",
   "execution_count": 9,
   "metadata": {
    "collapsed": false,
    "scrolled": false
   },
   "outputs": [
    {
     "name": "stdout",
     "output_type": "stream",
     "text": [
      "['Adoption' 'Died' 'Euthanasia' 'Return_to_owner' 'Transfer']\n",
      "['Cat' 'Dog']\n",
      "[nan 'Intact Female' 'Intact Male' 'Neutered Male' 'Spayed Female'\n",
      " 'Unknown']\n",
      "['Abyssinian Mix' 'Affenpinscher Mix' 'Afghan Hound Mix' ...,\n",
      " 'Yorkshire Terrier/Pomeranian' 'Yorkshire Terrier/Rat Terrier'\n",
      " 'Yorkshire Terrier/Toy Poodle']\n",
      "['Agouti' 'Agouti/Brown Tabby' 'Apricot' 'Apricot/Brown' 'Apricot/White'\n",
      " 'Black' 'Black Brindle' 'Black Brindle/Black' 'Black Brindle/Brown'\n",
      " 'Black Brindle/Brown Brindle' 'Black Brindle/White' 'Black Smoke'\n",
      " 'Black Smoke/Brown Tabby' 'Black Smoke/White' 'Black Tabby'\n",
      " 'Black Tabby/Orange' 'Black Tabby/White' 'Black Tiger/White' 'Black/Black'\n",
      " 'Black/Black Brindle' 'Black/Black Smoke' 'Black/Black Tabby' 'Black/Blue'\n",
      " 'Black/Blue Merle' 'Black/Blue Tick' 'Black/Brown' 'Black/Brown Brindle'\n",
      " 'Black/Brown Merle' 'Black/Buff' 'Black/Chocolate' 'Black/Cream'\n",
      " 'Black/Gray' 'Black/Orange' 'Black/Red' 'Black/Silver'\n",
      " 'Black/Silver Tabby' 'Black/Tan' 'Black/Tricolor' 'Black/White'\n",
      " 'Black/Yellow' 'Black/Yellow Brindle' 'Blue' 'Blue Cream'\n",
      " 'Blue Cream/Blue Tabby' 'Blue Cream/Blue Tiger' 'Blue Cream/Buff'\n",
      " 'Blue Cream/Tortie' 'Blue Cream/White' 'Blue Merle' 'Blue Merle/Black'\n",
      " 'Blue Merle/Blue Merle' 'Blue Merle/Brown' 'Blue Merle/Cream'\n",
      " 'Blue Merle/Gray' 'Blue Merle/Red' 'Blue Merle/Red Merle' 'Blue Merle/Tan'\n",
      " 'Blue Merle/Tricolor' 'Blue Merle/White' 'Blue Point' 'Blue Point/White'\n",
      " 'Blue Smoke' 'Blue Smoke/Brown' 'Blue Tabby' 'Blue Tabby/Blue Cream'\n",
      " 'Blue Tabby/Cream' 'Blue Tabby/Orange' 'Blue Tabby/Tan' 'Blue Tabby/White'\n",
      " 'Blue Tick' 'Blue Tick/Black' 'Blue Tick/Brown' 'Blue Tick/Brown Brindle'\n",
      " 'Blue Tick/Red' 'Blue Tick/Red Tick' 'Blue Tick/Tan' 'Blue Tick/White'\n",
      " 'Blue Tiger' 'Blue Tiger/White' 'Blue/Black' 'Blue/Brown'\n",
      " 'Blue/Brown Brindle' 'Blue/Cream' 'Blue/Orange' 'Blue/Tan' 'Blue/Tortie'\n",
      " 'Blue/White' 'Blue/Yellow Brindle' 'Brown' 'Brown Brindle'\n",
      " 'Brown Brindle/Black' 'Brown Brindle/Blue' 'Brown Brindle/Blue Cream'\n",
      " 'Brown Brindle/Blue Tick' 'Brown Brindle/Brown Brindle'\n",
      " 'Brown Brindle/Brown Merle' 'Brown Brindle/Red Tick' 'Brown Brindle/Tan'\n",
      " 'Brown Brindle/White' 'Brown Merle' 'Brown Merle/Black'\n",
      " 'Brown Merle/Blue Merle' 'Brown Merle/Tan' 'Brown Merle/White'\n",
      " 'Brown Tabby' 'Brown Tabby/Black' 'Brown Tabby/Brown' 'Brown Tabby/Gray'\n",
      " 'Brown Tabby/Gray Tabby' 'Brown Tabby/Orange' 'Brown Tabby/Tortie'\n",
      " 'Brown Tabby/White' 'Brown Tiger' 'Brown Tiger/White' 'Brown/Black'\n",
      " 'Brown/Black Brindle' 'Brown/Black Tabby' 'Brown/Blue' 'Brown/Blue Smoke'\n",
      " 'Brown/Brown' 'Brown/Brown Merle' 'Brown/Buff' 'Brown/Chocolate'\n",
      " 'Brown/Cream' 'Brown/Gray' 'Brown/Red' 'Brown/Red Tick' 'Brown/Silver'\n",
      " 'Brown/Tan' 'Brown/Tricolor' 'Brown/White' 'Buff' 'Buff/Black'\n",
      " 'Buff/Brown' 'Buff/Gray' 'Buff/Red' 'Buff/Tan' 'Buff/White' 'Buff/Yellow'\n",
      " 'Calico' 'Calico Point' 'Calico Point/White' 'Calico/Black'\n",
      " 'Calico/Blue Cream' 'Calico/Blue Tabby' 'Calico/Brown'\n",
      " 'Calico/Brown Tabby' 'Calico/Orange Tabby' 'Calico/Tricolor'\n",
      " 'Calico/White' 'Chocolate' 'Chocolate Point' 'Chocolate Point/White'\n",
      " 'Chocolate/Black' 'Chocolate/Black Smoke' 'Chocolate/Brown'\n",
      " 'Chocolate/Brown Brindle' 'Chocolate/Brown Merle' 'Chocolate/Cream'\n",
      " 'Chocolate/Gold' 'Chocolate/Gray' 'Chocolate/Red' 'Chocolate/Red Tick'\n",
      " 'Chocolate/Tan' 'Chocolate/Tricolor' 'Chocolate/White' 'Cream'\n",
      " 'Cream Tabby' 'Cream Tabby/White' 'Cream/Black' 'Cream/Brown' 'Cream/Gray'\n",
      " 'Cream/Orange' 'Cream/Red' 'Cream/Red Tick' 'Cream/Seal Point' 'Cream/Tan'\n",
      " 'Cream/White' 'Fawn' 'Fawn/Black' 'Fawn/Blue' 'Fawn/Brown'\n",
      " 'Fawn/Brown Brindle' 'Fawn/Tan' 'Fawn/Tricolor' 'Fawn/White' 'Flame Point'\n",
      " 'Gold' 'Gold/Black' 'Gold/Buff' 'Gold/Gold' 'Gold/Tan' 'Gold/White'\n",
      " 'Gold/Yellow' 'Gray' 'Gray Tabby' 'Gray Tabby/Black' 'Gray Tabby/White'\n",
      " 'Gray/Black' 'Gray/Brown' 'Gray/Cream' 'Gray/Red' 'Gray/Silver' 'Gray/Tan'\n",
      " 'Gray/White' 'Lilac Point' 'Liver Tick' 'Liver Tick/White' 'Liver/Buff'\n",
      " 'Liver/Tan' 'Liver/White' 'Lynx Point' 'Lynx Point/Brown Tabby'\n",
      " 'Lynx Point/Gray Tabby' 'Lynx Point/White' 'Orange' 'Orange Tabby'\n",
      " 'Orange Tabby/Apricot' 'Orange Tabby/Black' 'Orange Tabby/Orange'\n",
      " 'Orange Tabby/White' 'Orange Tiger' 'Orange/Orange Tabby' 'Orange/Tan'\n",
      " 'Orange/White' 'Pink' 'Red' 'Red Merle' 'Red Merle/Black' 'Red Merle/Tan'\n",
      " 'Red Merle/White' 'Red Tick' 'Red Tick/Black' 'Red Tick/Blue Tick'\n",
      " 'Red Tick/Brown' 'Red Tick/Brown Merle' 'Red Tick/Red' 'Red Tick/Tan'\n",
      " 'Red Tick/White' 'Red/Black' 'Red/Blue' 'Red/Brown' 'Red/Buff' 'Red/Cream'\n",
      " 'Red/Gold' 'Red/Red Merle' 'Red/Red Tick' 'Red/Silver' 'Red/Tan'\n",
      " 'Red/Tricolor' 'Red/White' 'Ruddy/Cream' 'Sable' 'Sable/Black'\n",
      " 'Sable/Brown' 'Sable/Buff' 'Sable/Cream' 'Sable/Red' 'Sable/Tan'\n",
      " 'Sable/White' 'Seal Point' 'Seal Point/Brown' 'Seal Point/White' 'Silver'\n",
      " 'Silver Lynx Point' 'Silver Tabby' 'Silver Tabby/Black'\n",
      " 'Silver Tabby/White' 'Silver/Black' 'Silver/Brown' 'Silver/Chocolate'\n",
      " 'Silver/Red' 'Silver/Tan' 'Silver/White' 'Tan' 'Tan/Apricot' 'Tan/Black'\n",
      " 'Tan/Blue' 'Tan/Brown' 'Tan/Brown Brindle' 'Tan/Brown Merle' 'Tan/Buff'\n",
      " 'Tan/Cream' 'Tan/Gold' 'Tan/Gray' 'Tan/Red' 'Tan/Silver' 'Tan/Tan'\n",
      " 'Tan/Tricolor' 'Tan/White' 'Tan/Yellow Brindle' 'Torbie'\n",
      " 'Torbie/Blue Cream' 'Torbie/Brown' 'Torbie/Calico' 'Torbie/White' 'Tortie'\n",
      " 'Tortie Point' 'Tortie Point/Lynx Point' 'Tortie Point/White'\n",
      " 'Tortie/Black' 'Tortie/Black Smoke' 'Tortie/Blue Cream' 'Tortie/Brown'\n",
      " 'Tortie/Calico' 'Tortie/Orange' 'Tortie/White' 'Tricolor' 'Tricolor/Black'\n",
      " 'Tricolor/Blue' 'Tricolor/Blue Merle' 'Tricolor/Brown'\n",
      " 'Tricolor/Brown Merle' 'Tricolor/Calico' 'Tricolor/Chocolate'\n",
      " 'Tricolor/Silver' 'Tricolor/Tan' 'Tricolor/White' 'White' 'White/Apricot'\n",
      " 'White/Black' 'White/Black Brindle' 'White/Black Smoke'\n",
      " 'White/Black Tabby' 'White/Blue' 'White/Blue Cream' 'White/Blue Merle'\n",
      " 'White/Blue Tabby' 'White/Blue Tick' 'White/Brown' 'White/Brown Brindle'\n",
      " 'White/Brown Merle' 'White/Brown Tabby' 'White/Brown Tiger' 'White/Buff'\n",
      " 'White/Calico' 'White/Chocolate' 'White/Chocolate Point' 'White/Cream'\n",
      " 'White/Cream Tabby' 'White/Flame Point' 'White/Gold' 'White/Gray'\n",
      " 'White/Gray Tabby' 'White/Liver' 'White/Lynx Point' 'White/Orange'\n",
      " 'White/Orange Tabby' 'White/Pink' 'White/Red' 'White/Red Merle'\n",
      " 'White/Red Tick' 'White/Silver' 'White/Tan' 'White/Tricolor' 'White/White'\n",
      " 'White/Yellow' 'White/Yellow Brindle' 'Yellow' 'Yellow Brindle'\n",
      " 'Yellow Brindle/Blue' 'Yellow Brindle/Tan' 'Yellow Brindle/White'\n",
      " 'Yellow/Black' 'Yellow/White' 'Yellow/Yellow']\n"
     ]
    }
   ],
   "source": [
    "for i in lel:\n",
    "    print i.classes_"
   ]
  },
  {
   "cell_type": "code",
   "execution_count": 10,
   "metadata": {
    "collapsed": false,
    "scrolled": true
   },
   "outputs": [
    {
     "name": "stdout",
     "output_type": "stream",
     "text": [
      "(26729, 7)\n"
     ]
    },
    {
     "data": {
      "text/html": [
       "<div>\n",
       "<table border=\"1\" class=\"dataframe\">\n",
       "  <thead>\n",
       "    <tr style=\"text-align: right;\">\n",
       "      <th></th>\n",
       "      <th>DateTime</th>\n",
       "      <th>OutcomeType</th>\n",
       "      <th>AnimalType</th>\n",
       "      <th>SexuponOutcome</th>\n",
       "      <th>AgeuponOutcome</th>\n",
       "      <th>Breed</th>\n",
       "      <th>Color</th>\n",
       "    </tr>\n",
       "  </thead>\n",
       "  <tbody>\n",
       "    <tr>\n",
       "      <th>0</th>\n",
       "      <td>2014-02-12 18:22:00</td>\n",
       "      <td>3</td>\n",
       "      <td>1</td>\n",
       "      <td>3</td>\n",
       "      <td>12</td>\n",
       "      <td>1221</td>\n",
       "      <td>130</td>\n",
       "    </tr>\n",
       "    <tr>\n",
       "      <th>1</th>\n",
       "      <td>2013-10-13 12:44:00</td>\n",
       "      <td>2</td>\n",
       "      <td>0</td>\n",
       "      <td>4</td>\n",
       "      <td>12</td>\n",
       "      <td>640</td>\n",
       "      <td>167</td>\n",
       "    </tr>\n",
       "    <tr>\n",
       "      <th>2</th>\n",
       "      <td>2015-01-31 12:28:00</td>\n",
       "      <td>0</td>\n",
       "      <td>1</td>\n",
       "      <td>3</td>\n",
       "      <td>24</td>\n",
       "      <td>1066</td>\n",
       "      <td>86</td>\n",
       "    </tr>\n",
       "    <tr>\n",
       "      <th>3</th>\n",
       "      <td>2014-07-11 19:09:00</td>\n",
       "      <td>4</td>\n",
       "      <td>0</td>\n",
       "      <td>2</td>\n",
       "      <td>0</td>\n",
       "      <td>640</td>\n",
       "      <td>42</td>\n",
       "    </tr>\n",
       "    <tr>\n",
       "      <th>4</th>\n",
       "      <td>2013-11-15 12:52:00</td>\n",
       "      <td>4</td>\n",
       "      <td>1</td>\n",
       "      <td>3</td>\n",
       "      <td>24</td>\n",
       "      <td>914</td>\n",
       "      <td>274</td>\n",
       "    </tr>\n",
       "  </tbody>\n",
       "</table>\n",
       "</div>"
      ],
      "text/plain": [
       "              DateTime  OutcomeType  AnimalType  SexuponOutcome  \\\n",
       "0  2014-02-12 18:22:00            3           1               3   \n",
       "1  2013-10-13 12:44:00            2           0               4   \n",
       "2  2015-01-31 12:28:00            0           1               3   \n",
       "3  2014-07-11 19:09:00            4           0               2   \n",
       "4  2013-11-15 12:52:00            4           1               3   \n",
       "\n",
       "   AgeuponOutcome  Breed  Color  \n",
       "0              12   1221    130  \n",
       "1              12    640    167  \n",
       "2              24   1066     86  \n",
       "3               0    640     42  \n",
       "4              24    914    274  "
      ]
     },
     "execution_count": 10,
     "metadata": {},
     "output_type": "execute_result"
    }
   ],
   "source": [
    "print train_df.shape\n",
    "train_df.head( 5 )"
   ]
  },
  {
   "cell_type": "code",
   "execution_count": 11,
   "metadata": {
    "collapsed": false,
    "scrolled": false
   },
   "outputs": [
    {
     "name": "stdout",
     "output_type": "stream",
     "text": [
      "['Adoption' 'Died' 'Euthanasia' 'Return_to_owner' 'Transfer']\n"
     ]
    },
    {
     "data": {
      "image/png": "[encoded data removed]",
      "text/plain": [
       "<matplotlib.figure.Figure at 0xb77df98>"
      ]
     },
     "metadata": {},
     "output_type": "display_data"
    }
   ],
   "source": [
    "print lel[0].classes_\n",
    "sns.countplot( train_df['OutcomeType'])\n",
    "sns.plt.show()"
   ]
  },
  {
   "cell_type": "code",
   "execution_count": 12,
   "metadata": {
    "collapsed": false
   },
   "outputs": [
    {
     "data": {
      "image/png": "[encoded data removed]",
      "text/plain": [
       "<matplotlib.figure.Figure at 0xbafb278>"
      ]
     },
     "metadata": {},
     "output_type": "display_data"
    }
   ],
   "source": [
    "#sns.countplot( data = train_df, x = 'AnimalType', hue = 'OutcomeType')\n",
    "sns.countplot( data = train_df, x = 'OutcomeType', hue = 'AnimalType' )\n",
    "sns.plt.show()"
   ]
  },
  {
   "cell_type": "code",
   "execution_count": 13,
   "metadata": {
    "collapsed": false
   },
   "outputs": [
    {
     "name": "stdout",
     "output_type": "stream",
     "text": [
      "[nan 'Intact Female' 'Intact Male' 'Neutered Male' 'Spayed Female'\n",
      " 'Unknown']\n"
     ]
    },
    {
     "data": {
      "image/png": "[encoded data removed]",
      "text/plain": [
       "<matplotlib.figure.Figure at 0xc0fd208>"
      ]
     },
     "metadata": {},
     "output_type": "display_data"
    }
   ],
   "source": [
    "print lel[2].classes_\n",
    "sns.countplot( train_df['SexuponOutcome'])\n",
    "sns.plt.show()"
   ]
  },
  {
   "cell_type": "code",
   "execution_count": 14,
   "metadata": {
    "collapsed": false
   },
   "outputs": [
    {
     "data": {
      "image/png": "[encoded data removed]",
      "text/plain": [
       "<matplotlib.figure.Figure at 0xc213550>"
      ]
     },
     "metadata": {},
     "output_type": "display_data"
    }
   ],
   "source": [
    "sns.countplot( train_df['Breed'] )\n",
    "sns.plt.show()"
   ]
  },
  {
   "cell_type": "code",
   "execution_count": 15,
   "metadata": {
    "collapsed": false
   },
   "outputs": [
    {
     "data": {
      "image/png": "[encoded data removed]",
      "text/plain": [
       "<matplotlib.figure.Figure at 0x13967b38>"
      ]
     },
     "metadata": {},
     "output_type": "display_data"
    }
   ],
   "source": [
    "sns.countplot( train_df['Color'] )\n",
    "sns.plt.show()"
   ]
  },
  {
   "cell_type": "code",
   "execution_count": 16,
   "metadata": {
    "collapsed": false
   },
   "outputs": [
    {
     "data": {
      "text/plain": [
       "<matplotlib.axes._subplots.AxesSubplot at 0xec9c048>"
      ]
     },
     "execution_count": 16,
     "metadata": {},
     "output_type": "execute_result"
    }
   ],
   "source": [
    "clc = train_df['Color'].value_counts( ascending = False )\n",
    "sns.countplot( clc )"
   ]
  },
  {
   "cell_type": "code",
   "execution_count": 17,
   "metadata": {
    "collapsed": false
   },
   "outputs": [
    {
     "name": "stdout",
     "output_type": "stream",
     "text": [
      "set([1, 2, 3, 4, 5])\n"
     ]
    },
    {
     "data": {
      "image/png": "[encoded data removed]",
      "text/plain": [
       "<matplotlib.figure.Figure at 0xe1fd7f0>"
      ]
     },
     "metadata": {},
     "output_type": "display_data"
    }
   ],
   "source": [
    "a = np.log( train_df['AgeuponOutcome'] ).astype(int)\n",
    "for i, _ in enumerate( a ):\n",
    "    if a[i] < 1: a[i] = 1\n",
    "print set( a )\n",
    "#sns.distplot( a )\n",
    "sns.countplot( a )\n",
    "sns.plt.show()"
   ]
  },
  {
   "cell_type": "code",
   "execution_count": 18,
   "metadata": {
    "collapsed": false
   },
   "outputs": [
    {
     "data": {
      "image/png": "[encoded data removed]",
      "text/plain": [
       "<matplotlib.figure.Figure at 0xad81da0>"
      ]
     },
     "metadata": {},
     "output_type": "display_data"
    }
   ],
   "source": [
    "sns.countplot( train_df['AgeuponOutcome'] )\n",
    "sns.plt.show()"
   ]
  },
  {
   "cell_type": "code",
   "execution_count": 19,
   "metadata": {
    "collapsed": false
   },
   "outputs": [
    {
     "data": {
      "text/html": [
       "<div>\n",
       "<table border=\"1\" class=\"dataframe\">\n",
       "  <thead>\n",
       "    <tr style=\"text-align: right;\">\n",
       "      <th></th>\n",
       "      <th>DateTime</th>\n",
       "      <th>OutcomeType</th>\n",
       "      <th>AnimalType</th>\n",
       "      <th>SexuponOutcome</th>\n",
       "      <th>AgeuponOutcome</th>\n",
       "      <th>Breed</th>\n",
       "      <th>Color</th>\n",
       "    </tr>\n",
       "  </thead>\n",
       "  <tbody>\n",
       "    <tr>\n",
       "      <th>26724</th>\n",
       "      <td>2015-05-14 11:56:00</td>\n",
       "      <td>4</td>\n",
       "      <td>0</td>\n",
       "      <td>2</td>\n",
       "      <td>1</td>\n",
       "      <td>640</td>\n",
       "      <td>111</td>\n",
       "    </tr>\n",
       "    <tr>\n",
       "      <th>26725</th>\n",
       "      <td>2016-01-20 18:59:00</td>\n",
       "      <td>4</td>\n",
       "      <td>0</td>\n",
       "      <td>4</td>\n",
       "      <td>3</td>\n",
       "      <td>640</td>\n",
       "      <td>104</td>\n",
       "    </tr>\n",
       "    <tr>\n",
       "      <th>26726</th>\n",
       "      <td>2015-03-09 13:33:00</td>\n",
       "      <td>0</td>\n",
       "      <td>1</td>\n",
       "      <td>3</td>\n",
       "      <td>48</td>\n",
       "      <td>1022</td>\n",
       "      <td>353</td>\n",
       "    </tr>\n",
       "    <tr>\n",
       "      <th>26727</th>\n",
       "      <td>2014-04-27 12:22:00</td>\n",
       "      <td>4</td>\n",
       "      <td>0</td>\n",
       "      <td>2</td>\n",
       "      <td>0</td>\n",
       "      <td>640</td>\n",
       "      <td>5</td>\n",
       "    </tr>\n",
       "    <tr>\n",
       "      <th>26728</th>\n",
       "      <td>2015-07-02 09:00:00</td>\n",
       "      <td>4</td>\n",
       "      <td>0</td>\n",
       "      <td>2</td>\n",
       "      <td>12</td>\n",
       "      <td>640</td>\n",
       "      <td>111</td>\n",
       "    </tr>\n",
       "  </tbody>\n",
       "</table>\n",
       "</div>"
      ],
      "text/plain": [
       "                  DateTime  OutcomeType  AnimalType  SexuponOutcome  \\\n",
       "26724  2015-05-14 11:56:00            4           0               2   \n",
       "26725  2016-01-20 18:59:00            4           0               4   \n",
       "26726  2015-03-09 13:33:00            0           1               3   \n",
       "26727  2014-04-27 12:22:00            4           0               2   \n",
       "26728  2015-07-02 09:00:00            4           0               2   \n",
       "\n",
       "       AgeuponOutcome  Breed  Color  \n",
       "26724               1    640    111  \n",
       "26725               3    640    104  \n",
       "26726              48   1022    353  \n",
       "26727               0    640      5  \n",
       "26728              12    640    111  "
      ]
     },
     "execution_count": 19,
     "metadata": {},
     "output_type": "execute_result"
    }
   ],
   "source": [
    "train_df.tail(5)"
   ]
  },
  {
   "cell_type": "code",
   "execution_count": 20,
   "metadata": {
    "collapsed": false
   },
   "outputs": [
    {
     "name": "stdout",
     "output_type": "stream",
     "text": [
      "5\n"
     ]
    },
    {
     "data": {
      "text/html": [
       "<div>\n",
       "<table border=\"1\" class=\"dataframe\">\n",
       "  <thead>\n",
       "    <tr style=\"text-align: right;\">\n",
       "      <th></th>\n",
       "      <th>DateTime</th>\n",
       "      <th>OutcomeType</th>\n",
       "      <th>AnimalType</th>\n",
       "      <th>SexuponOutcome</th>\n",
       "      <th>AgeuponOutcome</th>\n",
       "      <th>Breed</th>\n",
       "      <th>Color</th>\n",
       "      <th>month</th>\n",
       "    </tr>\n",
       "  </thead>\n",
       "  <tbody>\n",
       "    <tr>\n",
       "      <th>26724</th>\n",
       "      <td>2015-05-14 11:56:00</td>\n",
       "      <td>4</td>\n",
       "      <td>0</td>\n",
       "      <td>2</td>\n",
       "      <td>1</td>\n",
       "      <td>640</td>\n",
       "      <td>111</td>\n",
       "      <td>5</td>\n",
       "    </tr>\n",
       "    <tr>\n",
       "      <th>26725</th>\n",
       "      <td>2016-01-20 18:59:00</td>\n",
       "      <td>4</td>\n",
       "      <td>0</td>\n",
       "      <td>4</td>\n",
       "      <td>3</td>\n",
       "      <td>640</td>\n",
       "      <td>104</td>\n",
       "      <td>1</td>\n",
       "    </tr>\n",
       "    <tr>\n",
       "      <th>26726</th>\n",
       "      <td>2015-03-09 13:33:00</td>\n",
       "      <td>0</td>\n",
       "      <td>1</td>\n",
       "      <td>3</td>\n",
       "      <td>48</td>\n",
       "      <td>1022</td>\n",
       "      <td>353</td>\n",
       "      <td>3</td>\n",
       "    </tr>\n",
       "    <tr>\n",
       "      <th>26727</th>\n",
       "      <td>2014-04-27 12:22:00</td>\n",
       "      <td>4</td>\n",
       "      <td>0</td>\n",
       "      <td>2</td>\n",
       "      <td>0</td>\n",
       "      <td>640</td>\n",
       "      <td>5</td>\n",
       "      <td>4</td>\n",
       "    </tr>\n",
       "    <tr>\n",
       "      <th>26728</th>\n",
       "      <td>2015-07-02 09:00:00</td>\n",
       "      <td>4</td>\n",
       "      <td>0</td>\n",
       "      <td>2</td>\n",
       "      <td>12</td>\n",
       "      <td>640</td>\n",
       "      <td>111</td>\n",
       "      <td>7</td>\n",
       "    </tr>\n",
       "  </tbody>\n",
       "</table>\n",
       "</div>"
      ],
      "text/plain": [
       "                  DateTime  OutcomeType  AnimalType  SexuponOutcome  \\\n",
       "26724  2015-05-14 11:56:00            4           0               2   \n",
       "26725  2016-01-20 18:59:00            4           0               4   \n",
       "26726  2015-03-09 13:33:00            0           1               3   \n",
       "26727  2014-04-27 12:22:00            4           0               2   \n",
       "26728  2015-07-02 09:00:00            4           0               2   \n",
       "\n",
       "       AgeuponOutcome  Breed  Color  month  \n",
       "26724               1    640    111      5  \n",
       "26725               3    640    104      1  \n",
       "26726              48   1022    353      3  \n",
       "26727               0    640      5      4  \n",
       "26728              12    640    111      7  "
      ]
     },
     "execution_count": 20,
     "metadata": {},
     "output_type": "execute_result"
    }
   ],
   "source": [
    "date = train_df['DateTime']\n",
    "dt = \"2015-05-14 12:56:00\"\n",
    "print int( dt.split( '-' )[1] )\n",
    "\n",
    "dtf = lambda x : int( x.split('-')[1] )\n",
    "train_df['month'] = train_df['DateTime'].apply( dtf )\n",
    "train_df.tail( 5 )"
   ]
  },
  {
   "cell_type": "code",
   "execution_count": 21,
   "metadata": {
    "collapsed": false
   },
   "outputs": [
    {
     "data": {
      "image/png": "[encoded data removed]",
      "text/plain": [
       "<matplotlib.figure.Figure at 0x10a1aac8>"
      ]
     },
     "metadata": {},
     "output_type": "display_data"
    }
   ],
   "source": [
    "sns.countplot( data = train_df, x = 'month', hue = 'OutcomeType' )\n",
    "sns.plt.show()"
   ]
  },
  {
   "cell_type": "code",
   "execution_count": 22,
   "metadata": {
    "collapsed": false
   },
   "outputs": [
    {
     "data": {
      "text/html": [
       "<div>\n",
       "<table border=\"1\" class=\"dataframe\">\n",
       "  <thead>\n",
       "    <tr style=\"text-align: right;\">\n",
       "      <th></th>\n",
       "      <th>DateTime</th>\n",
       "      <th>OutcomeType</th>\n",
       "      <th>AnimalType</th>\n",
       "      <th>SexuponOutcome</th>\n",
       "      <th>AgeuponOutcome</th>\n",
       "      <th>Breed</th>\n",
       "      <th>Color</th>\n",
       "      <th>month</th>\n",
       "      <th>MNN</th>\n",
       "    </tr>\n",
       "  </thead>\n",
       "  <tbody>\n",
       "    <tr>\n",
       "      <th>26724</th>\n",
       "      <td>2015-05-14 11:56:00</td>\n",
       "      <td>4</td>\n",
       "      <td>0</td>\n",
       "      <td>2</td>\n",
       "      <td>1</td>\n",
       "      <td>640</td>\n",
       "      <td>111</td>\n",
       "      <td>5</td>\n",
       "      <td>0</td>\n",
       "    </tr>\n",
       "    <tr>\n",
       "      <th>26725</th>\n",
       "      <td>2016-01-20 18:59:00</td>\n",
       "      <td>4</td>\n",
       "      <td>0</td>\n",
       "      <td>4</td>\n",
       "      <td>3</td>\n",
       "      <td>640</td>\n",
       "      <td>104</td>\n",
       "      <td>1</td>\n",
       "      <td>1</td>\n",
       "    </tr>\n",
       "    <tr>\n",
       "      <th>26726</th>\n",
       "      <td>2015-03-09 13:33:00</td>\n",
       "      <td>0</td>\n",
       "      <td>1</td>\n",
       "      <td>3</td>\n",
       "      <td>48</td>\n",
       "      <td>1022</td>\n",
       "      <td>353</td>\n",
       "      <td>3</td>\n",
       "      <td>1</td>\n",
       "    </tr>\n",
       "    <tr>\n",
       "      <th>26727</th>\n",
       "      <td>2014-04-27 12:22:00</td>\n",
       "      <td>4</td>\n",
       "      <td>0</td>\n",
       "      <td>2</td>\n",
       "      <td>0</td>\n",
       "      <td>640</td>\n",
       "      <td>5</td>\n",
       "      <td>4</td>\n",
       "      <td>1</td>\n",
       "    </tr>\n",
       "    <tr>\n",
       "      <th>26728</th>\n",
       "      <td>2015-07-02 09:00:00</td>\n",
       "      <td>4</td>\n",
       "      <td>0</td>\n",
       "      <td>2</td>\n",
       "      <td>12</td>\n",
       "      <td>640</td>\n",
       "      <td>111</td>\n",
       "      <td>7</td>\n",
       "      <td>0</td>\n",
       "    </tr>\n",
       "  </tbody>\n",
       "</table>\n",
       "</div>"
      ],
      "text/plain": [
       "                  DateTime  OutcomeType  AnimalType  SexuponOutcome  \\\n",
       "26724  2015-05-14 11:56:00            4           0               2   \n",
       "26725  2016-01-20 18:59:00            4           0               4   \n",
       "26726  2015-03-09 13:33:00            0           1               3   \n",
       "26727  2014-04-27 12:22:00            4           0               2   \n",
       "26728  2015-07-02 09:00:00            4           0               2   \n",
       "\n",
       "       AgeuponOutcome  Breed  Color  month  MNN  \n",
       "26724               1    640    111      5    0  \n",
       "26725               3    640    104      1    1  \n",
       "26726              48   1022    353      3    1  \n",
       "26727               0    640      5      4    1  \n",
       "26728              12    640    111      7    0  "
      ]
     },
     "execution_count": 22,
     "metadata": {},
     "output_type": "execute_result"
    }
   ],
   "source": [
    "ddf = lambda x : 0 if int(x.split()[1].split(':')[0]) < 12 else 1\n",
    "train_df['MNN'] = train_df['DateTime'].apply(ddf)\n",
    "train_df.tail( 5 )"
   ]
  },
  {
   "cell_type": "code",
   "execution_count": 23,
   "metadata": {
    "collapsed": false,
    "scrolled": false
   },
   "outputs": [
    {
     "data": {
      "image/png": "[encoded data removed]",
      "text/plain": [
       "<matplotlib.figure.Figure at 0x10a1a9b0>"
      ]
     },
     "metadata": {},
     "output_type": "display_data"
    }
   ],
   "source": [
    "sns.countplot( data = train_df, x = 'OutcomeType', hue = 'MNN' )\n",
    "sns.plt.show()"
   ]
  },
  {
   "cell_type": "code",
   "execution_count": 24,
   "metadata": {
    "collapsed": false
   },
   "outputs": [],
   "source": [
    "#from sklearn.svm import SVC\n",
    "#outcome_type = test_df[\"OutcomeType\"]\n",
    "#test_df.drop( \"OutcomeType\", axis = 1, inplace = True )\n",
    "#test_df.drop( \"DateTime\", axis = 1, inplace = True )"
   ]
  },
  {
   "cell_type": "code",
   "execution_count": 25,
   "metadata": {
    "collapsed": false
   },
   "outputs": [],
   "source": [
    "#model = SVC( kernel = 'linear' ).fit( test_df, outcome_type )"
   ]
  },
  {
   "cell_type": "markdown",
   "metadata": {
    "collapsed": true
   },
   "source": [
    "## Report"
   ]
  },
  {
   "cell_type": "code",
   "execution_count": 26,
   "metadata": {
    "collapsed": true
   },
   "outputs": [],
   "source": [
    "from sklearn.metrics import classification_report\n",
    "from sklearn.naive_bayes import GaussianNB\n",
    "from sklearn.multiclass import OneVsRestClassifier, OneVsOneClassifier\n",
    "from sklearn.discriminant_analysis import QuadraticDiscriminantAnalysis\n",
    "from sklearn.cross_validation import train_test_split\n",
    "from sklearn.decomposition import PCA\n",
    "\n",
    "from sklearn.linear_model import LogisticRegression\n",
    "from sklearn.svm import SVC\n",
    "from sklearn.ensemble import VotingClassifier, RandomForestClassifier, BaggingClassifier, ExtraTreesClassifier"
   ]
  },
  {
   "cell_type": "code",
   "execution_count": 27,
   "metadata": {
    "collapsed": false
   },
   "outputs": [],
   "source": [
    "# log loss function to check out the train result\n",
    "from math import log\n",
    "def evaluation_SAO( prediction_set, dfy ):\n",
    "    len_pred = len( prediction_set )\n",
    "    eval_ret = [ [ max( min( c, (1.0 - (10 ** -15)) ), ( 10 ** -15 ) ) for c in r ] for r in prediction_set ]\n",
    "    sum_c = [ sum( [ log(xc) * yc for xc, yc in zip( xr, yr ) ] ) for xr, yr in zip( eval_ret, dfy ) ]\n",
    "    sum_r = sum( sum_c ) / len_pred * -1\n",
    "    return sum_r\n",
    "\n",
    "def ytolist( dfy ):\n",
    "    len_outcomes = 5\n",
    "    return [ [ 1 if c is int(r) else 0 for c in range( len_outcomes )  ] for r in dfy ]"
   ]
  },
  {
   "cell_type": "code",
   "execution_count": 28,
   "metadata": {
    "collapsed": false
   },
   "outputs": [
    {
     "name": "stdout",
     "output_type": "stream",
     "text": [
      "['DateTime', 'OutcomeType', 'AnimalType', 'SexuponOutcome', 'AgeuponOutcome', 'Breed', 'Color']\n",
      "       AnimalType  SexuponOutcome  AgeuponOutcome\n",
      "26724           0               2               1\n",
      "26725           0               4               3\n",
      "26726           1               3              48\n",
      "26727           0               2               0\n",
      "26728           0               2              12\n"
     ]
    }
   ],
   "source": [
    "print new_headers\n",
    "dfx = train_df[ new_headers[ 2 : 5 ] ]\n",
    "dfy = train_df[ new_headers[ 1 ] ]\n",
    "print dfx.tail()"
   ]
  },
  {
   "cell_type": "code",
   "execution_count": 29,
   "metadata": {
    "collapsed": false
   },
   "outputs": [],
   "source": [
    "xtrain, xtest, ytrain, ytest = train_test_split( dfx, dfy, test_size=0.2 )"
   ]
  },
  {
   "cell_type": "code",
   "execution_count": 63,
   "metadata": {
    "collapsed": false
   },
   "outputs": [
    {
     "name": "stdout",
     "output_type": "stream",
     "text": [
      "             precision    recall  f1-score   support\n",
      "\n",
      "          0       0.61      0.88      0.72      2112\n",
      "          1       0.00      0.00      0.00        39\n",
      "          2       0.21      0.09      0.13       304\n",
      "          3       0.51      0.32      0.39       971\n",
      "          4       0.75      0.61      0.67      1920\n",
      "\n",
      "avg / total       0.61      0.63      0.60      5346\n",
      "\n",
      "\n",
      "train accuracy:  0.627274002712\n",
      "test accuracy:  0.627384960718\n",
      "submit score train:  1.10932885818\n",
      "submit score test:  1.11414491874\n"
     ]
    }
   ],
   "source": [
    "mdl_gaussian = GaussianNB()\n",
    "mdl_gaussian.fit( xtrain, ytrain )\n",
    "print classification_report( ytest, mdl_gaussian.predict( xtest ) )\n",
    "print\n",
    "print 'train accuracy: ', mdl_gaussian.score( xtrain, ytrain )\n",
    "print 'test accuracy: ', mdl_gaussian.score( xtest, ytest )\n",
    "print 'submit score train: ', evaluation_SAO( mdl_gaussian.predict_proba( xtrain ), ytolist( ytrain ) )\n",
    "print 'submit score test: ', evaluation_SAO( mdl_gaussian.predict_proba( xtest ), ytolist( ytest ) )"
   ]
  },
  {
   "cell_type": "code",
   "execution_count": 64,
   "metadata": {
    "collapsed": false
   },
   "outputs": [
    {
     "name": "stdout",
     "output_type": "stream",
     "text": [
      "             precision    recall  f1-score   support\n",
      "\n",
      "          0       0.53      0.71      0.61      2112\n",
      "          1       0.00      0.00      0.00        39\n",
      "          2       0.43      0.02      0.04       304\n",
      "          3       0.50      0.28      0.36       971\n",
      "          4       0.57      0.58      0.57      1920\n",
      "\n",
      "avg / total       0.53      0.54      0.51      5346\n",
      "\n",
      "\n",
      "train accuracy:  0.544030304447\n",
      "test accuracy:  0.541152263374\n",
      "submit score train:  1.06253895369\n",
      "submit score test:  1.06467955393\n"
     ]
    }
   ],
   "source": [
    "mdl_logistic = LogisticRegression()\n",
    "mdl_logistic.fit( xtrain, ytrain )\n",
    "print classification_report( ytest, mdl_logistic.predict( xtest ) )\n",
    "print\n",
    "print 'train accuracy: ', mdl_logistic.score( xtrain, ytrain )\n",
    "print 'test accuracy: ', mdl_logistic.score( xtest, ytest )\n",
    "print 'submit score train: ', evaluation_SAO( mdl_logistic.predict_proba( xtrain ), ytolist( ytrain ) )\n",
    "print 'submit score test: ', evaluation_SAO( mdl_logistic.predict_proba( xtest ), ytolist( ytest ) )"
   ]
  },
  {
   "cell_type": "code",
   "execution_count": 65,
   "metadata": {
    "collapsed": false
   },
   "outputs": [
    {
     "name": "stdout",
     "output_type": "stream",
     "text": [
      "             precision    recall  f1-score   support\n",
      "\n",
      "          0       0.65      0.82      0.73      2112\n",
      "          1       0.00      0.00      0.00        39\n",
      "          2       0.48      0.04      0.08       304\n",
      "          3       0.47      0.42      0.44       971\n",
      "          4       0.71      0.66      0.69      1920\n",
      "\n",
      "avg / total       0.63      0.64      0.62      5346\n",
      "\n",
      "\n",
      "train accuracy:  0.638030210915\n",
      "test accuracy:  0.641414141414\n",
      "submit score train:  0.962362032137\n",
      "submit score test:  0.961770965156\n"
     ]
    }
   ],
   "source": [
    "mdl_svc = SVC( probability = True )\n",
    "mdl_svc.fit( xtrain, ytrain )\n",
    "print classification_report( ytest, mdl_svc.predict( xtest ) )\n",
    "print\n",
    "print 'train accuracy: ', mdl_svc.score( xtrain, ytrain )\n",
    "print 'test accuracy: ', mdl_svc.score( xtest, ytest )\n",
    "print 'submit score train: ', evaluation_SAO( mdl_svc.predict_proba( xtrain ), ytolist( ytrain ) )\n",
    "print 'submit score test: ', evaluation_SAO( mdl_svc.predict_proba( xtest ), ytolist( ytest ) )"
   ]
  },
  {
   "cell_type": "code",
   "execution_count": 33,
   "metadata": {
    "collapsed": false
   },
   "outputs": [
    {
     "name": "stdout",
     "output_type": "stream",
     "text": [
      "26729\n",
      "0    Brown/White\n",
      "1    Cream Tabby\n",
      "2     Blue/White\n",
      "3     Blue Cream\n",
      "4            Tan\n",
      "Name: Color, dtype: object 26729\n",
      "0          Shetland Sheepdog Mix\n",
      "1         Domestic Shorthair Mix\n",
      "2                   Pit Bull Mix\n",
      "3         Domestic Shorthair Mix\n",
      "4    Lhasa Apso/Miniature Poodle\n",
      "Name: Breed, dtype: object 26729\n",
      "0    Dog\n",
      "1    Cat\n",
      "2    Dog\n",
      "3    Cat\n",
      "4    Dog\n",
      "Name: AnimalType, dtype: object 26729\n",
      "0    Neutered Male\n",
      "1    Spayed Female\n",
      "2    Neutered Male\n",
      "3      Intact Male\n",
      "4    Neutered Male\n",
      "Name: SexuponOutcome, dtype: object 26729\n",
      "0    Return_to_owner\n",
      "1         Euthanasia\n",
      "2           Adoption\n",
      "3           Transfer\n",
      "4           Transfer\n",
      "Name: OutcomeType, dtype: object 26729\n"
     ]
    }
   ],
   "source": [
    "print len(dfy)\n",
    "header_nlt = [ 'OutcomeType', 'Color', 'Breed', 'AnimalType', 'SexuponOutcome' ]\n",
    "dfnlp = pd.read_csv( train_file, sep = ',', usecols = header_nlt )\n",
    "x_clr = dfnlp[ 'Color' ]\n",
    "x_brd = dfnlp[ 'Breed' ]\n",
    "x_at = dfnlp['AnimalType']\n",
    "x_so = dfnlp[ 'SexuponOutcome']\n",
    "y_org = dfnlp[ 'OutcomeType' ]\n",
    "print x_clr.head(), len( x_clr )\n",
    "print x_brd.head(), len( x_brd )\n",
    "print x_at.head(), len( x_at )\n",
    "print x_so.head(), len( x_so )\n",
    "print y_org.head(), len( y_org )\n"
   ]
  },
  {
   "cell_type": "code",
   "execution_count": 34,
   "metadata": {
    "collapsed": false
   },
   "outputs": [
    {
     "name": "stdout",
     "output_type": "stream",
     "text": [
      "0    [Brown, White]\n",
      "1    [Cream, Tabby]\n",
      "2     [Blue, White]\n",
      "3     [Blue, Cream]\n",
      "4             [Tan]\n",
      "Name: Color, dtype: object 26729\n",
      "0           [Shetland, Sheepdog, Mix]\n",
      "1          [Domestic, Shorthair, Mix]\n",
      "2                    [Pit, Bull, Mix]\n",
      "3          [Domestic, Shorthair, Mix]\n",
      "4    [Lhasa, Apso, Miniature, Poodle]\n",
      "Name: Breed, dtype: object 26729\n",
      "0    [Neutered, Male]\n",
      "1    [Spayed, Female]\n",
      "2    [Neutered, Male]\n",
      "3      [Intact, Male]\n",
      "4    [Neutered, Male]\n",
      "Name: SexuponOutcome, dtype: object 26729\n"
     ]
    }
   ],
   "source": [
    "rep = lambda x : x.replace( '/', ' ' ).strip().split()\n",
    "x_clr = x_clr.apply( rep )\n",
    "x_brd = x_brd.apply( rep )\n",
    "x_so = x_so.apply( lambda x : x.split() if type(x) is str else ['none'] )\n",
    "\n",
    "print x_clr.head(), len( x_clr )\n",
    "print x_brd.head(), len( x_brd )\n",
    "print x_so.head(), len( x_so )"
   ]
  },
  {
   "cell_type": "code",
   "execution_count": 35,
   "metadata": {
    "collapsed": false
   },
   "outputs": [
    {
     "data": {
      "text/plain": [
       "[({'Brown': True, 'White': True}, 'Return_to_owner'),\n",
       " ({'Cream': True, 'Tabby': True}, 'Euthanasia'),\n",
       " ({'Blue': True, 'White': True}, 'Adoption'),\n",
       " ({'Blue': True, 'Cream': True}, 'Transfer'),\n",
       " ({'Tan': True}, 'Transfer')]"
      ]
     },
     "execution_count": 35,
     "metadata": {},
     "output_type": "execute_result"
    }
   ],
   "source": [
    "def word_feats(words):\n",
    "    return dict([(word, True) for word in words] )\n",
    "\n",
    "\n",
    "labeled_clr = [ (word_feats( c ), str( y )) for c, y in zip( x_clr, y_org ) ]\n",
    "labeled_clr[:5]"
   ]
  },
  {
   "cell_type": "code",
   "execution_count": 36,
   "metadata": {
    "collapsed": false
   },
   "outputs": [
    {
     "data": {
      "text/plain": [
       "[({'Mix': True, 'Sheepdog': True, 'Shetland': True}, 'Return_to_owner'),\n",
       " ({'Domestic': True, 'Mix': True, 'Shorthair': True}, 'Euthanasia'),\n",
       " ({'Bull': True, 'Mix': True, 'Pit': True}, 'Adoption'),\n",
       " ({'Domestic': True, 'Mix': True, 'Shorthair': True}, 'Transfer'),\n",
       " ({'Apso': True, 'Lhasa': True, 'Miniature': True, 'Poodle': True},\n",
       "  'Transfer')]"
      ]
     },
     "execution_count": 36,
     "metadata": {},
     "output_type": "execute_result"
    }
   ],
   "source": [
    "labeled_brd = [ (word_feats( c ), str( y )) for c, y in zip( x_brd, y_org ) ]\n",
    "labeled_brd[:5]"
   ]
  },
  {
   "cell_type": "code",
   "execution_count": 37,
   "metadata": {
    "collapsed": true
   },
   "outputs": [],
   "source": [
    "labeled_so = [ (word_feats( c ), str( y )) for c, y in zip( x_so, y_org ) ]"
   ]
  },
  {
   "cell_type": "code",
   "execution_count": 38,
   "metadata": {
    "collapsed": false
   },
   "outputs": [],
   "source": [
    "lbl_blended = \\\n",
    "[ (word_feats( c + b + s + [a] ), str( y )) for c, b, s, a, y in zip( x_clr, x_brd, x_so, x_at, y_org ) ]"
   ]
  },
  {
   "cell_type": "code",
   "execution_count": 39,
   "metadata": {
    "collapsed": false
   },
   "outputs": [
    {
     "data": {
      "text/plain": [
       "[({'Brown': True, 'White': True}, 'Return_to_owner'),\n",
       " ({'Cream': True, 'Tabby': True}, 'Euthanasia'),\n",
       " ({'Blue': True, 'White': True}, 'Adoption'),\n",
       " ({'Blue': True, 'Cream': True}, 'Transfer'),\n",
       " ({'Tan': True}, 'Transfer')]"
      ]
     },
     "execution_count": 39,
     "metadata": {},
     "output_type": "execute_result"
    }
   ],
   "source": [
    "labeled_hyb = labeled_clr + labeled_brd\n",
    "labeled_hyb[:5]"
   ]
  },
  {
   "cell_type": "code",
   "execution_count": 40,
   "metadata": {
    "collapsed": false
   },
   "outputs": [
    {
     "name": "stdout",
     "output_type": "stream",
     "text": [
      "0.429047102398\n",
      "Most Informative Features\n",
      "                   Smoke = True             Died : Return =     24.2 : 1.0\n",
      "                    Pink = True             Died : Transf =     20.4 : 1.0\n",
      "                   Flame = True             Died : Return =     18.8 : 1.0\n",
      "                    Seal = True             Died : Return =      8.9 : 1.0\n",
      "                   Tabby = True             Died : Return =      8.5 : 1.0\n",
      "                   Lilac = True           Transf : Return =      7.3 : 1.0\n",
      "                  Calico = True           Transf : Return =      6.6 : 1.0\n",
      "                   Point = True             Died : Return =      6.0 : 1.0\n",
      "                  Orange = True             Died : Return =      5.6 : 1.0\n",
      "                   Sable = True           Adopti : Euthan =      5.4 : 1.0\n",
      "None\n",
      "0.453701971641\n",
      "Most Informative Features\n",
      "                Brittany = True             Died : Transf =     28.6 : 1.0\n",
      "                   Akita = True             Died : Transf =     20.4 : 1.0\n",
      "               Himalayan = True             Died : Transf =     15.9 : 1.0\n",
      "                  Bichon = True           Return : Transf =     15.1 : 1.0\n",
      "                   Frise = True           Return : Transf =     15.1 : 1.0\n",
      "                    Manx = True             Died : Return =     14.5 : 1.0\n",
      "                Standard = True             Died : Transf =     14.0 : 1.0\n",
      "              Bloodhound = True           Return : Adopti =     12.7 : 1.0\n",
      "                Pembroke = True             Died : Transf =     11.0 : 1.0\n",
      "                  Medium = True             Died : Return =     10.5 : 1.0\n",
      "None\n",
      "0.441411949568\n",
      "Most Informative Features\n",
      "                Brittany = True             Died : Transf =     28.6 : 1.0\n",
      "                   Smoke = True             Died : Return =     24.2 : 1.0\n",
      "                   Akita = True             Died : Transf =     20.4 : 1.0\n",
      "                    Pink = True             Died : Transf =     20.4 : 1.0\n",
      "                   Flame = True             Died : Return =     18.8 : 1.0\n",
      "               Himalayan = True             Died : Transf =     15.9 : 1.0\n",
      "                  Bichon = True           Return : Transf =     15.1 : 1.0\n",
      "                   Frise = True           Return : Transf =     15.1 : 1.0\n",
      "                    Manx = True             Died : Return =     14.5 : 1.0\n",
      "                Standard = True             Died : Transf =     14.0 : 1.0\n",
      "None\n",
      "0.481574320027\n",
      "Most Informative Features\n",
      "                 Unknown = True             Died : Return =     39.8 : 1.0\n",
      "                Brittany = True             Died : Transf =     28.6 : 1.0\n",
      "                   Smoke = True             Died : Return =     24.2 : 1.0\n",
      "                   Akita = True             Died : Transf =     20.4 : 1.0\n",
      "                    Pink = True             Died : Transf =     20.4 : 1.0\n",
      "                  Intact = True             Died : Adopti =     20.4 : 1.0\n",
      "                   Flame = True             Died : Return =     18.8 : 1.0\n",
      "               Himalayan = True             Died : Transf =     15.9 : 1.0\n",
      "                  Bichon = True           Return : Transf =     15.1 : 1.0\n",
      "                   Frise = True           Return : Transf =     15.1 : 1.0\n",
      "None\n"
     ]
    }
   ],
   "source": [
    "import nltk\n",
    "from nltk.classify import NaiveBayesClassifier\n",
    "\n",
    "clr_classifier = nltk.NaiveBayesClassifier.train( labeled_clr )\n",
    "print( nltk.classify.accuracy( clr_classifier, labeled_clr ) )\n",
    "print clr_classifier.show_most_informative_features()\n",
    "\n",
    "brd_classifier = nltk.NaiveBayesClassifier.train( labeled_brd )\n",
    "print( nltk.classify.accuracy( brd_classifier, labeled_brd ) )\n",
    "print brd_classifier.show_most_informative_features()\n",
    "\n",
    "hyb_classifier = nltk.NaiveBayesClassifier.train( labeled_hyb )\n",
    "print( nltk.classify.accuracy( hyb_classifier, labeled_hyb ) )\n",
    "print hyb_classifier.show_most_informative_features()\n",
    "\n",
    "bld_classifier = nltk.NaiveBayesClassifier.train( lbl_blended )\n",
    "print( nltk.classify.accuracy( bld_classifier, lbl_blended ) )\n",
    "print bld_classifier.show_most_informative_features()"
   ]
  },
  {
   "cell_type": "code",
   "execution_count": 41,
   "metadata": {
    "collapsed": false
   },
   "outputs": [
    {
     "name": "stdout",
     "output_type": "stream",
     "text": [
      "Transfer\n",
      "[0.4800642965934793, 0.39189890667084987, 0.052412135570882576, 0.012119096027920084, 0.0635055651368682]\n",
      "1.0\n"
     ]
    }
   ],
   "source": [
    "test = word_feats(['tan', 'Orange'])\n",
    "print clr_classifier.classify( test )\n",
    "pds = clr_classifier.prob_classify( test )\n",
    "labels = list( pds.samples() )\n",
    "lbl_prob =  [ pds.prob( lbl ) for lbl in  labels ]\n",
    "print lbl_prob\n",
    "print sum( lbl_prob )"
   ]
  },
  {
   "cell_type": "code",
   "execution_count": 42,
   "metadata": {
    "collapsed": false
   },
   "outputs": [
    {
     "name": "stdout",
     "output_type": "stream",
     "text": [
      "[[ 0.47753622  0.00550388  0.03774892  0.32530725  0.15390373]\n",
      " [ 0.64964483  0.00568472  0.03254457  0.09690159  0.21522429]\n",
      " [ 0.6334541   0.0043771   0.03394306  0.17782681  0.15039893]\n",
      " ..., \n",
      " [ 0.6366358   0.00535076  0.0322666   0.11717366  0.20857318]\n",
      " [ 0.11525523  0.01319382  0.06574467  0.04111348  0.76469281]\n",
      " [ 0.64889936  0.00484792  0.03384807  0.09688987  0.21551478]]\n"
     ]
    }
   ],
   "source": [
    "svc_ret = mdl_svc.predict_proba( xtrain )\n",
    "print svc_ret"
   ]
  },
  {
   "cell_type": "markdown",
   "metadata": {},
   "source": [
    "## Test set"
   ]
  },
  {
   "cell_type": "code",
   "execution_count": 43,
   "metadata": {
    "collapsed": false
   },
   "outputs": [
    {
     "data": {
      "text/html": [
       "<div>\n",
       "<table border=\"1\" class=\"dataframe\">\n",
       "  <thead>\n",
       "    <tr style=\"text-align: right;\">\n",
       "      <th></th>\n",
       "      <th>AnimalType</th>\n",
       "      <th>SexuponOutcome</th>\n",
       "      <th>AgeuponOutcome</th>\n",
       "      <th>Breed</th>\n",
       "      <th>Color</th>\n",
       "    </tr>\n",
       "  </thead>\n",
       "  <tbody>\n",
       "    <tr>\n",
       "      <th>0</th>\n",
       "      <td>Dog</td>\n",
       "      <td>Intact Female</td>\n",
       "      <td>10 months</td>\n",
       "      <td>Labrador Retriever Mix</td>\n",
       "      <td>Red/White</td>\n",
       "    </tr>\n",
       "    <tr>\n",
       "      <th>1</th>\n",
       "      <td>Dog</td>\n",
       "      <td>Spayed Female</td>\n",
       "      <td>2 years</td>\n",
       "      <td>German Shepherd/Siberian Husky</td>\n",
       "      <td>Black/Tan</td>\n",
       "    </tr>\n",
       "    <tr>\n",
       "      <th>2</th>\n",
       "      <td>Cat</td>\n",
       "      <td>Neutered Male</td>\n",
       "      <td>1 year</td>\n",
       "      <td>Domestic Shorthair Mix</td>\n",
       "      <td>Brown Tabby</td>\n",
       "    </tr>\n",
       "    <tr>\n",
       "      <th>3</th>\n",
       "      <td>Dog</td>\n",
       "      <td>Intact Male</td>\n",
       "      <td>4 months</td>\n",
       "      <td>Collie Smooth Mix</td>\n",
       "      <td>Tricolor</td>\n",
       "    </tr>\n",
       "    <tr>\n",
       "      <th>4</th>\n",
       "      <td>Dog</td>\n",
       "      <td>Neutered Male</td>\n",
       "      <td>2 years</td>\n",
       "      <td>Miniature Poodle Mix</td>\n",
       "      <td>White</td>\n",
       "    </tr>\n",
       "  </tbody>\n",
       "</table>\n",
       "</div>"
      ],
      "text/plain": [
       "  AnimalType SexuponOutcome AgeuponOutcome                           Breed  \\\n",
       "0        Dog  Intact Female      10 months          Labrador Retriever Mix   \n",
       "1        Dog  Spayed Female        2 years  German Shepherd/Siberian Husky   \n",
       "2        Cat  Neutered Male         1 year          Domestic Shorthair Mix   \n",
       "3        Dog    Intact Male       4 months               Collie Smooth Mix   \n",
       "4        Dog  Neutered Male        2 years            Miniature Poodle Mix   \n",
       "\n",
       "         Color  \n",
       "0    Red/White  \n",
       "1    Black/Tan  \n",
       "2  Brown Tabby  \n",
       "3     Tricolor  \n",
       "4        White  "
      ]
     },
     "execution_count": 43,
     "metadata": {},
     "output_type": "execute_result"
    }
   ],
   "source": [
    "test_header = [ 'AnimalType', 'SexuponOutcome', 'AgeuponOutcome', 'Breed', 'Color' ]\n",
    "test_file = 'test.csv'\n",
    "test_df = pd.read_csv( test_file, sep = ',', usecols = test_header )\n",
    "test_df.head()"
   ]
  },
  {
   "cell_type": "code",
   "execution_count": 44,
   "metadata": {
    "collapsed": true
   },
   "outputs": [],
   "source": [
    "# label encoding\n",
    "# age to days\n",
    "# text split"
   ]
  },
  {
   "cell_type": "code",
   "execution_count": 45,
   "metadata": {
    "collapsed": true
   },
   "outputs": [],
   "source": [
    "from sklearn.preprocessing import LabelEncoder\n",
    "    \n",
    "# argumenst : pandas data frame, pandas data frame headers to be encoded\n",
    "def label_encoder( pdf, lbl_encode_headers ):\n",
    "    lel = [ LabelEncoder() for i in range( len( lbl_encode_headers ) ) ]\n",
    "    encoded_lbl = [ l.fit( pdf[ lbl_encode_headers[i] ] ) for i, l in enumerate(lel) ]\n",
    "    for i, l in enumerate( encoded_lbl ):\n",
    "        pdf[lbl_encode_headers[i]] = l.transform( pdf[lbl_encode_headers[i]] )"
   ]
  },
  {
   "cell_type": "code",
   "execution_count": 46,
   "metadata": {
    "collapsed": false
   },
   "outputs": [
    {
     "name": "stdout",
     "output_type": "stream",
     "text": [
      "11456\n"
     ]
    },
    {
     "name": "stderr",
     "output_type": "stream",
     "text": [
      "C:\\Users\\SJPark\\Anaconda2\\lib\\site-packages\\sklearn\\preprocessing\\label.py:108: DataConversionWarning: A column-vector y was passed when a 1d array was expected. Please change the shape of y to (n_samples, ), for example using ravel().\n",
      "  y = column_or_1d(y, warn=True)\n",
      "C:\\Users\\SJPark\\Anaconda2\\lib\\site-packages\\sklearn\\preprocessing\\label.py:108: DataConversionWarning: A column-vector y was passed when a 1d array was expected. Please change the shape of y to (n_samples, ), for example using ravel().\n",
      "  y = column_or_1d(y, warn=True)\n"
     ]
    },
    {
     "data": {
      "text/html": [
       "<div>\n",
       "<table border=\"1\" class=\"dataframe\">\n",
       "  <thead>\n",
       "    <tr style=\"text-align: right;\">\n",
       "      <th></th>\n",
       "      <th>AnimalType</th>\n",
       "      <th>SexuponOutcome</th>\n",
       "      <th>AgeuponOutcome</th>\n",
       "      <th>Breed</th>\n",
       "      <th>Color</th>\n",
       "    </tr>\n",
       "  </thead>\n",
       "  <tbody>\n",
       "    <tr>\n",
       "      <th>0</th>\n",
       "      <td>1</td>\n",
       "      <td>0</td>\n",
       "      <td>10</td>\n",
       "      <td>[Labrador, Retriever, Mix]</td>\n",
       "      <td>[Red, White]</td>\n",
       "    </tr>\n",
       "    <tr>\n",
       "      <th>1</th>\n",
       "      <td>1</td>\n",
       "      <td>3</td>\n",
       "      <td>24</td>\n",
       "      <td>[German, Shepherd, Siberian, Husky]</td>\n",
       "      <td>[Black, Tan]</td>\n",
       "    </tr>\n",
       "    <tr>\n",
       "      <th>2</th>\n",
       "      <td>0</td>\n",
       "      <td>2</td>\n",
       "      <td>12</td>\n",
       "      <td>[Domestic, Shorthair, Mix]</td>\n",
       "      <td>[Brown, Tabby]</td>\n",
       "    </tr>\n",
       "    <tr>\n",
       "      <th>3</th>\n",
       "      <td>1</td>\n",
       "      <td>1</td>\n",
       "      <td>4</td>\n",
       "      <td>[Collie, Smooth, Mix]</td>\n",
       "      <td>[Tricolor]</td>\n",
       "    </tr>\n",
       "    <tr>\n",
       "      <th>4</th>\n",
       "      <td>1</td>\n",
       "      <td>2</td>\n",
       "      <td>24</td>\n",
       "      <td>[Miniature, Poodle, Mix]</td>\n",
       "      <td>[White]</td>\n",
       "    </tr>\n",
       "  </tbody>\n",
       "</table>\n",
       "</div>"
      ],
      "text/plain": [
       "  AnimalType SexuponOutcome  AgeuponOutcome  \\\n",
       "0          1              0              10   \n",
       "1          1              3              24   \n",
       "2          0              2              12   \n",
       "3          1              1               4   \n",
       "4          1              2              24   \n",
       "\n",
       "                                 Breed           Color  \n",
       "0           [Labrador, Retriever, Mix]    [Red, White]  \n",
       "1  [German, Shepherd, Siberian, Husky]    [Black, Tan]  \n",
       "2           [Domestic, Shorthair, Mix]  [Brown, Tabby]  \n",
       "3                [Collie, Smooth, Mix]      [Tricolor]  \n",
       "4             [Miniature, Poodle, Mix]         [White]  "
      ]
     },
     "execution_count": 46,
     "metadata": {},
     "output_type": "execute_result"
    }
   ],
   "source": [
    "label_encoder( test_df, [ ['AnimalType'], ['SexuponOutcome'] ] )\n",
    "test_df[ 'AgeuponOutcome' ] = test_df[ 'AgeuponOutcome' ].apply( atod )\n",
    "test_df[ 'AgeuponOutcome' ] = test_df[ 'AgeuponOutcome' ].apply( dtom )\n",
    "test_df['Breed'] = test_df['Breed'].apply( rep )\n",
    "test_df['Color'] = test_df['Color'].apply( rep )\n",
    "print len( test_df )\n",
    "test_df.head()"
   ]
  },
  {
   "cell_type": "code",
   "execution_count": 47,
   "metadata": {
    "collapsed": true
   },
   "outputs": [],
   "source": [
    "xtest_n = test_df[ ['AnimalType', 'SexuponOutcome', 'AgeuponOutcome'] ]\n",
    "xtest_b = test_df[ 'Breed' ]\n",
    "xtest_c = test_df[ 'Color' ]"
   ]
  },
  {
   "cell_type": "code",
   "execution_count": 48,
   "metadata": {
    "collapsed": true
   },
   "outputs": [],
   "source": [
    "def nb_classifier_prob( classifier, dfx ):\n",
    "    dfx_processed = dfx.apply( word_feats )\n",
    "    labels = list( classifier.labels() )\n",
    "    probs = []\n",
    "    for i in dfx_processed:\n",
    "        probs.append( [classifier.prob_classify( i ).prob( lbl ) for lbl in labels] )    \n",
    "    \n",
    "    return probs"
   ]
  },
  {
   "cell_type": "code",
   "execution_count": 49,
   "metadata": {
    "collapsed": false
   },
   "outputs": [],
   "source": [
    "svc_ret_test = mdl_svc.predict_proba( xtest_n )\n",
    "nb_ret_test_c = nb_classifier_prob( clr_classifier, xtest_c )\n",
    "nb_ret_test_b = nb_classifier_prob( brd_classifier, xtest_b )"
   ]
  },
  {
   "cell_type": "code",
   "execution_count": 50,
   "metadata": {
    "collapsed": false
   },
   "outputs": [
    {
     "name": "stdout",
     "output_type": "stream",
     "text": [
      "['Adoption' 'Died' 'Euthanasia' 'Return_to_owner' 'Transfer']\n",
      "['Transfer', 'Adoption', 'Return_to_owner', 'Died', 'Euthanasia']\n",
      "['Transfer', 'Adoption', 'Return_to_owner', 'Died', 'Euthanasia']\n",
      "[ 0.29810606  0.00705063  0.06187578  0.14445763  0.4885099 ]\n",
      "[0.2337698378015684, 0.39661945403472093, 0.31196348091409165, 0.0034433060051386345, 0.0542039212444793]\n",
      "[0.1665503210377476, 0.4737010763570396, 0.3227290262103086, 0.0013890623789185369, 0.03563051401598554]\n",
      "(11456L, 5L)\n",
      "11456\n",
      "11456\n"
     ]
    }
   ],
   "source": [
    "print lel[0].classes_\n",
    "print clr_classifier.labels()\n",
    "print brd_classifier.labels()\n",
    "\n",
    "print svc_ret_test[0]\n",
    "print nb_ret_test_c[0]\n",
    "print nb_ret_test_b[0]\n",
    "\n",
    "print svc_ret_test.shape\n",
    "print len( nb_ret_test_c )\n",
    "print len( nb_ret_test_b )"
   ]
  },
  {
   "cell_type": "code",
   "execution_count": 51,
   "metadata": {
    "collapsed": false
   },
   "outputs": [
    {
     "name": "stdout",
     "output_type": "stream",
     "text": [
      "['Transfer', 'Adoption', 'Return_to_owner', 'Died', 'Euthanasia']\n",
      "['Transfer', 'Adoption', 'Return_to_owner', 'Died', 'Euthanasia']\n"
     ]
    }
   ],
   "source": [
    "print clr_classifier.prob_classify( word_feats( xtest_c[1131] ) ).samples()\n",
    "print brd_classifier.prob_classify( word_feats( xtest_b[0] ) ).samples()"
   ]
  },
  {
   "cell_type": "code",
   "execution_count": 52,
   "metadata": {
    "collapsed": false
   },
   "outputs": [
    {
     "name": "stdout",
     "output_type": "stream",
     "text": [
      "['Transfer', 'Adoption', 'Return_to_owner', 'Died', 'Euthanasia']\n",
      "['Adoption', 'Transfer', 'Return_to_owner', 'Died', 'Euthanasia']\n",
      "['Adoption', 'Died', 'Return_to_owner', 'Transfer', 'Euthanasia']\n",
      "['Adoption', 'Died', 'Euthanasia', 'Transfer', 'Return_to_owner']\n",
      "['Adoption', 'Died', 'Euthanasia', 'Return_to_owner', 'Transfer']\n"
     ]
    }
   ],
   "source": [
    "# label sequence of nltk.classifier is different from encoded label sequence\n",
    "# need to write swqp code\n",
    "\n",
    "import copy\n",
    "# inplace swap\n",
    "def swap( target, t1, t2 ):\n",
    "    target[t1], target[t2] = target[t2], target[t1]\n",
    "\n",
    "swap_seq = ((1,0), (3,1), (4,2), (4,3))\n",
    "\n",
    "def seq_swap( target, seq = swap_seq):\n",
    "    for s in seq:\n",
    "        swap( target, s[0], s[1] )\n",
    "\n",
    "cls_lbls = copy.deepcopy( clr_classifier.labels() )\n",
    "print cls_lbls\n",
    "swap( cls_lbls, 1, 0 )\n",
    "print cls_lbls\n",
    "swap( cls_lbls, 3, 1 )\n",
    "print cls_lbls\n",
    "swap( cls_lbls, 4, 2 )\n",
    "print cls_lbls\n",
    "swap( cls_lbls, 4, 3 )\n",
    "print cls_lbls"
   ]
  },
  {
   "cell_type": "code",
   "execution_count": 53,
   "metadata": {
    "collapsed": false
   },
   "outputs": [
    {
     "name": "stdout",
     "output_type": "stream",
     "text": [
      "['Adoption', 'Died', 'Euthanasia', 'Return_to_owner', 'Transfer']\n"
     ]
    }
   ],
   "source": [
    "mlbl = copy.deepcopy( clr_classifier.labels() )\n",
    "seq_swap( mlbl, seq = swap_seq)\n",
    "print mlbl"
   ]
  },
  {
   "cell_type": "code",
   "execution_count": 54,
   "metadata": {
    "collapsed": false
   },
   "outputs": [
    {
     "name": "stdout",
     "output_type": "stream",
     "text": [
      "[0.2337698378015684, 0.39661945403472093, 0.31196348091409165, 0.0034433060051386345, 0.0542039212444793]\n",
      "[0.39661945403472093, 0.0034433060051386345, 0.0542039212444793, 0.31196348091409165, 0.2337698378015684]\n",
      "\n",
      "[0.1665503210377476, 0.4737010763570396, 0.3227290262103086, 0.0013890623789185369, 0.03563051401598554]\n",
      "[0.4737010763570396, 0.0013890623789185369, 0.03563051401598554, 0.3227290262103086, 0.1665503210377476]\n",
      "['Transfer', 'Adoption', 'Return_to_owner', 'Died', 'Euthanasia']\n"
     ]
    }
   ],
   "source": [
    "sorted_rslt_c = copy.deepcopy( nb_ret_test_c )\n",
    "print sorted_rslt_c[0]\n",
    "for t in sorted_rslt_c:\n",
    "    seq_swap( t )\n",
    "print sorted_rslt_c[0]\n",
    "print\n",
    "sorted_rslt_b = copy.deepcopy( nb_ret_test_b )\n",
    "print sorted_rslt_b[0]\n",
    "for t in sorted_rslt_b:\n",
    "    seq_swap( t )\n",
    "print sorted_rslt_b[0]\n",
    "print ['Transfer', 'Adoption', 'Return_to_owner', 'Died', 'Euthanasia']"
   ]
  },
  {
   "cell_type": "code",
   "execution_count": 55,
   "metadata": {
    "collapsed": false
   },
   "outputs": [
    {
     "name": "stdout",
     "output_type": "stream",
     "text": [
      "(11456L, 5L)\n",
      "11456\n",
      "[[0.38033858251377972, 0.0042699615006911362, 0.051700644245896252, 0.24819080500870172, 0.31550000673093082], [0.42871108748856157, 0.0032465812597897254, 0.033489431421702839, 0.3989291310567602, 0.13562376877318499]]\n"
     ]
    }
   ],
   "source": [
    "def combine_probs( rslts, ratio_list ):\n",
    "    return [[sum([rslts[k][i][j] * ratio_list[k] for k in range(len(rslts))]) \\\n",
    "      for j in range(len(rslts[0][i]))] for i in range(len(rslts[0]))]\n",
    "\n",
    "#ret = combine_probs( [svc_ret_test, nb_ret_test_c, nb_ret_test_b ] )\n",
    "ret = combine_probs( [ svc_ret_test, sorted_rslt_c, sorted_rslt_b ], [ 0.4, 0.3, 0.3 ] )\n",
    "print svc_ret_test.shape\n",
    "print len( ret )\n",
    "print ret[ : 2 ]"
   ]
  },
  {
   "cell_type": "code",
   "execution_count": 56,
   "metadata": {
    "collapsed": false
   },
   "outputs": [],
   "source": [
    "# test output file write function\n",
    "def write_test_out( filename, headers, data, base_idx = 0, sep = ',', lsep = '\\n' ):\n",
    "    with open( filename, 'wb' ) as tfo:\n",
    "        tfo.write( sep.join( headers ) + lsep )\n",
    "        for i, d in enumerate( data ):\n",
    "            row = [ str( i + base_idx ) ] + [ str( l ) for l in d ]\n",
    "            tfo.write( sep.join( row ) + lsep )"
   ]
  },
  {
   "cell_type": "code",
   "execution_count": 57,
   "metadata": {
    "collapsed": false
   },
   "outputs": [],
   "source": [
    "test_result_file_name = 'testout.csv'\n",
    "test_result_file_header = ['ID', 'Adoption', 'Died', 'Euthanasia' ,'Return_to_owner', 'Transfer']\n",
    "            \n",
    "write_test_out( test_result_file_name, test_result_file_header, ret, base_idx = 1 )    "
   ]
  },
  {
   "cell_type": "markdown",
   "metadata": {},
   "source": [
    "### Selecting most highest probability"
   ]
  },
  {
   "cell_type": "code",
   "execution_count": 58,
   "metadata": {
    "collapsed": false
   },
   "outputs": [],
   "source": [
    "#import operator\n",
    "#index, value = max( enumerate( my_list ), key = operator.itemgetter( 1 ) )\n",
    "\n",
    "def peaker( data ):\n",
    "    tc = copy.deepcopy( data )\n",
    "    for ri, r in enumerate( tc ):\n",
    "        max_idx = r.index( max(r) )\n",
    "        for ci, _ in enumerate( r ):\n",
    "            tc[ri][ci] = 1 if ci is max_idx else 0\n",
    "            \n",
    "    return tc"
   ]
  },
  {
   "cell_type": "code",
   "execution_count": 59,
   "metadata": {
    "collapsed": true
   },
   "outputs": [],
   "source": [
    "peaked_ret = peaker( ret )\n",
    "write_test_out( 'peaked_testout.csv', test_result_file_header, peaked_ret, base_idx = 1 )  "
   ]
  },
  {
   "cell_type": "markdown",
   "metadata": {},
   "source": [
    "### Rated voting "
   ]
  },
  {
   "cell_type": "code",
   "execution_count": 60,
   "metadata": {
    "collapsed": false
   },
   "outputs": [
    {
     "name": "stdout",
     "output_type": "stream",
     "text": [
      "[[0.6, 0.0, 0.0, 0.0, 0.4], [0.7, 0.0, 0.0, 0.3, 0.0], [0.0, 0.0, 0.0, 0.0, 1.0], [0.6, 0.0, 0.0, 0.0, 0.4], [0.6, 0.0, 0.0, 0.0, 0.4], [0.6, 0.0, 0.0, 0.0, 0.4], [0.0, 0.0, 0.0, 0.0, 1.0], [0.4, 0.0, 0.0, 0.0, 0.6], [1.0, 0.0, 0.0, 0.0, 0.0], [0.7, 0.0, 0.0, 0.3, 0.0]]\n"
     ]
    }
   ],
   "source": [
    "pkd_svc_ret_test = peaker( svc_ret_test.tolist() )\n",
    "pkd_srtd_rslt_c = peaker( sorted_rslt_c )\n",
    "pkd_srtd_rslt_b = peaker( sorted_rslt_b )\n",
    "\n",
    "pkd_vote_ret = combine_probs( [ pkd_svc_ret_test, pkd_srtd_rslt_c, pkd_srtd_rslt_b ], [ 0.4, 0.3, 0.3 ] )\n",
    "print pkd_vote_ret[:10]"
   ]
  },
  {
   "cell_type": "code",
   "execution_count": 61,
   "metadata": {
    "collapsed": true
   },
   "outputs": [],
   "source": [
    "write_test_out( 'pkd_vt_testout.csv', test_result_file_header, pkd_vote_ret, base_idx = 1 )"
   ]
  },
  {
   "cell_type": "markdown",
   "metadata": {},
   "source": [
    "### next steps\n",
    "- most informative words selection\n",
    "- classification and voting method\n",
    "- start from data exploration\n",
    "- need to figure out a way to compare outcome and trained data"
   ]
  },
  {
   "cell_type": "code",
   "execution_count": 62,
   "metadata": {
    "collapsed": false
   },
   "outputs": [
    {
     "name": "stdout",
     "output_type": "stream",
     "text": [
      "1.56260746612\n"
     ]
    }
   ],
   "source": [
    "print evaluation_SAO( svc_ret, ytolist( dfy ) )"
   ]
  },
  {
   "cell_type": "code",
   "execution_count": null,
   "metadata": {
    "collapsed": false
   },
   "outputs": [],
   "source": []
  },
  {
   "cell_type": "code",
   "execution_count": null,
   "metadata": {
    "collapsed": true
   },
   "outputs": [],
   "source": []
  }
 ],
 "metadata": {
  "anaconda-cloud": {},
  "kernelspec": {
   "display_name": "Python [conda root]",
   "language": "python",
   "name": "conda-root-py"
  },
  "language_info": {
   "codemirror_mode": {
    "name": "ipython",
    "version": 2
   },
   "file_extension": ".py",
   "mimetype": "text/x-python",
   "name": "python",
   "nbconvert_exporter": "python",
   "pygments_lexer": "ipython2",
   "version": "2.7.12"
  }
 },
 "nbformat": 4,
 "nbformat_minor": 1
}
