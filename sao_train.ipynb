{
 "cells": [
  {
   "cell_type": "markdown",
   "metadata": {},
   "source": [
    "# Shelter Animal Outcomes Data Training"
   ]
  },
  {
   "cell_type": "code",
   "execution_count": 1,
   "metadata": {
    "collapsed": true
   },
   "outputs": [],
   "source": [
    "import pandas as pd\n",
    "import numpy as np\n",
    "import seaborn as sns\n",
    "import matplotlib as plt\n",
    "import copy"
   ]
  },
  {
   "cell_type": "markdown",
   "metadata": {},
   "source": [
    "## Load train data"
   ]
  },
  {
   "cell_type": "code",
   "execution_count": 2,
   "metadata": {
    "collapsed": false
   },
   "outputs": [
    {
     "name": "stdout",
     "output_type": "stream",
     "text": [
      "['AnimalID', 'Name', 'DateTime', 'OutcomeType', 'OutcomeSubtype', 'AnimalType', 'SexuponOutcome', 'AgeuponOutcome', 'Breed', 'Color']\n",
      "26729\n"
     ]
    },
    {
     "data": {
      "text/html": [
       "<div>\n",
       "<table border=\"1\" class=\"dataframe\">\n",
       "  <thead>\n",
       "    <tr style=\"text-align: right;\">\n",
       "      <th></th>\n",
       "      <th>OutcomeType</th>\n",
       "      <th>AnimalType</th>\n",
       "      <th>SexuponOutcome</th>\n",
       "      <th>AgeuponOutcome</th>\n",
       "      <th>Breed</th>\n",
       "      <th>Color</th>\n",
       "    </tr>\n",
       "  </thead>\n",
       "  <tbody>\n",
       "    <tr>\n",
       "      <th>0</th>\n",
       "      <td>Return_to_owner</td>\n",
       "      <td>Dog</td>\n",
       "      <td>Neutered Male</td>\n",
       "      <td>1 year</td>\n",
       "      <td>Shetland Sheepdog Mix</td>\n",
       "      <td>Brown/White</td>\n",
       "    </tr>\n",
       "    <tr>\n",
       "      <th>1</th>\n",
       "      <td>Euthanasia</td>\n",
       "      <td>Cat</td>\n",
       "      <td>Spayed Female</td>\n",
       "      <td>1 year</td>\n",
       "      <td>Domestic Shorthair Mix</td>\n",
       "      <td>Cream Tabby</td>\n",
       "    </tr>\n",
       "    <tr>\n",
       "      <th>2</th>\n",
       "      <td>Adoption</td>\n",
       "      <td>Dog</td>\n",
       "      <td>Neutered Male</td>\n",
       "      <td>2 years</td>\n",
       "      <td>Pit Bull Mix</td>\n",
       "      <td>Blue/White</td>\n",
       "    </tr>\n",
       "    <tr>\n",
       "      <th>3</th>\n",
       "      <td>Transfer</td>\n",
       "      <td>Cat</td>\n",
       "      <td>Intact Male</td>\n",
       "      <td>3 weeks</td>\n",
       "      <td>Domestic Shorthair Mix</td>\n",
       "      <td>Blue Cream</td>\n",
       "    </tr>\n",
       "    <tr>\n",
       "      <th>4</th>\n",
       "      <td>Transfer</td>\n",
       "      <td>Dog</td>\n",
       "      <td>Neutered Male</td>\n",
       "      <td>2 years</td>\n",
       "      <td>Lhasa Apso/Miniature Poodle</td>\n",
       "      <td>Tan</td>\n",
       "    </tr>\n",
       "  </tbody>\n",
       "</table>\n",
       "</div>"
      ],
      "text/plain": [
       "       OutcomeType AnimalType SexuponOutcome AgeuponOutcome  \\\n",
       "0  Return_to_owner        Dog  Neutered Male         1 year   \n",
       "1       Euthanasia        Cat  Spayed Female         1 year   \n",
       "2         Adoption        Dog  Neutered Male        2 years   \n",
       "3         Transfer        Cat    Intact Male        3 weeks   \n",
       "4         Transfer        Dog  Neutered Male        2 years   \n",
       "\n",
       "                         Breed        Color  \n",
       "0        Shetland Sheepdog Mix  Brown/White  \n",
       "1       Domestic Shorthair Mix  Cream Tabby  \n",
       "2                 Pit Bull Mix   Blue/White  \n",
       "3       Domestic Shorthair Mix   Blue Cream  \n",
       "4  Lhasa Apso/Miniature Poodle          Tan  "
      ]
     },
     "execution_count": 2,
     "metadata": {},
     "output_type": "execute_result"
    }
   ],
   "source": [
    "train_file = \"train.csv\"\n",
    "with open( train_file, \"rb\" ) as header_file:\n",
    "    headers = header_file.readline().strip().split(',')\n",
    "new_headers = headers[3:4] + headers[5:]\n",
    "print headers\n",
    "train_df = pd.read_csv( train_file, sep = ',', usecols = new_headers )\n",
    "print len( train_df )\n",
    "train_df.head( 5 )"
   ]
  },
  {
   "cell_type": "markdown",
   "metadata": {},
   "source": [
    "### Preprocessing and imputation"
   ]
  },
  {
   "cell_type": "markdown",
   "metadata": {},
   "source": [
    "### AgeuponOutcome: years, months, days to months"
   ]
  },
  {
   "cell_type": "code",
   "execution_count": 3,
   "metadata": {
    "collapsed": false
   },
   "outputs": [
    {
     "name": "stdout",
     "output_type": "stream",
     "text": [
      "18\n",
      "18\n"
     ]
    }
   ],
   "source": [
    "# empty data count\n",
    "ds_age = train_df[ 'AgeuponOutcome' ]\n",
    "vals = ds_age.value_counts().sum()\n",
    "print len( train_df ) - vals\n",
    "print ds_age.isnull().sum()\n",
    "#print ds_age.value_counts()"
   ]
  },
  {
   "cell_type": "code",
   "execution_count": 4,
   "metadata": {
    "collapsed": false
   },
   "outputs": [],
   "source": [
    "# need to deal with 0 years and nan values\n",
    "# nan 18 + 0 years 22 = 40"
   ]
  },
  {
   "cell_type": "code",
   "execution_count": 5,
   "metadata": {
    "collapsed": true
   },
   "outputs": [],
   "source": [
    "def age_to_days( str_age, set_nan_value = 0 ):\n",
    "    if type( str_age ) is str:\n",
    "        days = 0\n",
    "        las = str_age.strip().split()\n",
    "        if 'year' in las[1]:\n",
    "            days = int( las[0] ) * 365\n",
    "        elif 'week' in las[1]:\n",
    "            days = int( las[0] ) * 7\n",
    "        elif 'month' in las[1]:\n",
    "            days = int( las[0] ) * 30\n",
    "        elif 'day' in las[1]:\n",
    "            days = int( las[0] )\n",
    "        else:                \n",
    "            raise ValueError( \"'{}' is not in the type list\".format(las[1]) )\n",
    "        return days\n",
    "    elif str_age is np.nan:\n",
    "        return set_nan_value\n",
    "    else:\n",
    "        raise TypeError( \"{} is not supported type\".format(type( str_age )) )"
   ]
  },
  {
   "cell_type": "code",
   "execution_count": 6,
   "metadata": {
    "collapsed": false
   },
   "outputs": [],
   "source": [
    "train_df['AgeuponOutcome'] = train_df['AgeuponOutcome'].apply( age_to_days )"
   ]
  },
  {
   "cell_type": "code",
   "execution_count": 7,
   "metadata": {
    "collapsed": false
   },
   "outputs": [
    {
     "name": "stdout",
     "output_type": "stream",
     "text": [
      "mean with 0s:  793.595981892\n",
      "mean without 0s:  794.785379744\n"
     ]
    }
   ],
   "source": [
    "# mean includes 0 is 793.5959818923267\n",
    "print 'mean with 0s: ', train_df[ 'AgeuponOutcome' ].mean()\n",
    "notzero = train_df[ train_df[ 'AgeuponOutcome' ] != 0 ][ 'AgeuponOutcome' ]\n",
    "# mean exclues 0 is 794.785379744\n",
    "print 'mean without 0s: ', notzero.mean()"
   ]
  },
  {
   "cell_type": "code",
   "execution_count": 8,
   "metadata": {
    "collapsed": false
   },
   "outputs": [
    {
     "data": {
      "text/html": [
       "<div>\n",
       "<table border=\"1\" class=\"dataframe\">\n",
       "  <thead>\n",
       "    <tr style=\"text-align: right;\">\n",
       "      <th></th>\n",
       "      <th>OutcomeType</th>\n",
       "      <th>AnimalType</th>\n",
       "      <th>SexuponOutcome</th>\n",
       "      <th>AgeuponOutcome</th>\n",
       "      <th>Breed</th>\n",
       "      <th>Color</th>\n",
       "    </tr>\n",
       "  </thead>\n",
       "  <tbody>\n",
       "  </tbody>\n",
       "</table>\n",
       "</div>"
      ],
      "text/plain": [
       "Empty DataFrame\n",
       "Columns: [OutcomeType, AnimalType, SexuponOutcome, AgeuponOutcome, Breed, Color]\n",
       "Index: []"
      ]
     },
     "execution_count": 8,
     "metadata": {},
     "output_type": "execute_result"
    }
   ],
   "source": [
    "train_df[ 'AgeuponOutcome' ] = train_df[ 'AgeuponOutcome' ].apply( lambda x : 795 if x == 0 else x )\n",
    "train_df[ train_df[ 'AgeuponOutcome' ] == 0 ]\n",
    "# if the DF is empty, it is working"
   ]
  },
  {
   "cell_type": "markdown",
   "metadata": {},
   "source": [
    "### Days to Months"
   ]
  },
  {
   "cell_type": "code",
   "execution_count": 9,
   "metadata": {
    "collapsed": false
   },
   "outputs": [
    {
     "data": {
      "text/html": [
       "<div>\n",
       "<table border=\"1\" class=\"dataframe\">\n",
       "  <thead>\n",
       "    <tr style=\"text-align: right;\">\n",
       "      <th></th>\n",
       "      <th>OutcomeType</th>\n",
       "      <th>AnimalType</th>\n",
       "      <th>SexuponOutcome</th>\n",
       "      <th>AgeuponOutcome</th>\n",
       "      <th>Breed</th>\n",
       "      <th>Color</th>\n",
       "    </tr>\n",
       "  </thead>\n",
       "  <tbody>\n",
       "    <tr>\n",
       "      <th>0</th>\n",
       "      <td>Return_to_owner</td>\n",
       "      <td>Dog</td>\n",
       "      <td>Neutered Male</td>\n",
       "      <td>12</td>\n",
       "      <td>Shetland Sheepdog Mix</td>\n",
       "      <td>Brown/White</td>\n",
       "    </tr>\n",
       "    <tr>\n",
       "      <th>1</th>\n",
       "      <td>Euthanasia</td>\n",
       "      <td>Cat</td>\n",
       "      <td>Spayed Female</td>\n",
       "      <td>12</td>\n",
       "      <td>Domestic Shorthair Mix</td>\n",
       "      <td>Cream Tabby</td>\n",
       "    </tr>\n",
       "    <tr>\n",
       "      <th>2</th>\n",
       "      <td>Adoption</td>\n",
       "      <td>Dog</td>\n",
       "      <td>Neutered Male</td>\n",
       "      <td>24</td>\n",
       "      <td>Pit Bull Mix</td>\n",
       "      <td>Blue/White</td>\n",
       "    </tr>\n",
       "    <tr>\n",
       "      <th>3</th>\n",
       "      <td>Transfer</td>\n",
       "      <td>Cat</td>\n",
       "      <td>Intact Male</td>\n",
       "      <td>0</td>\n",
       "      <td>Domestic Shorthair Mix</td>\n",
       "      <td>Blue Cream</td>\n",
       "    </tr>\n",
       "    <tr>\n",
       "      <th>4</th>\n",
       "      <td>Transfer</td>\n",
       "      <td>Dog</td>\n",
       "      <td>Neutered Male</td>\n",
       "      <td>24</td>\n",
       "      <td>Lhasa Apso/Miniature Poodle</td>\n",
       "      <td>Tan</td>\n",
       "    </tr>\n",
       "  </tbody>\n",
       "</table>\n",
       "</div>"
      ],
      "text/plain": [
       "       OutcomeType AnimalType SexuponOutcome  AgeuponOutcome  \\\n",
       "0  Return_to_owner        Dog  Neutered Male              12   \n",
       "1       Euthanasia        Cat  Spayed Female              12   \n",
       "2         Adoption        Dog  Neutered Male              24   \n",
       "3         Transfer        Cat    Intact Male               0   \n",
       "4         Transfer        Dog  Neutered Male              24   \n",
       "\n",
       "                         Breed        Color  \n",
       "0        Shetland Sheepdog Mix  Brown/White  \n",
       "1       Domestic Shorthair Mix  Cream Tabby  \n",
       "2                 Pit Bull Mix   Blue/White  \n",
       "3       Domestic Shorthair Mix   Blue Cream  \n",
       "4  Lhasa Apso/Miniature Poodle          Tan  "
      ]
     },
     "execution_count": 9,
     "metadata": {},
     "output_type": "execute_result"
    }
   ],
   "source": [
    "train_df['AgeuponOutcome'] = train_df['AgeuponOutcome'].apply( lambda x: x // 30 )\n",
    "train_df.head(5)"
   ]
  },
  {
   "cell_type": "markdown",
   "metadata": {},
   "source": [
    "### SexuponOutcome imputation"
   ]
  },
  {
   "cell_type": "code",
   "execution_count": 10,
   "metadata": {
    "collapsed": false
   },
   "outputs": [
    {
     "name": "stdout",
     "output_type": "stream",
     "text": [
      "Neutered Male    9779\n",
      "Spayed Female    8820\n",
      "Intact Male      3525\n",
      "Intact Female    3511\n",
      "Unknown          1094\n",
      "Name: SexuponOutcome, dtype: int64\n",
      "26729\n",
      "0\n"
     ]
    },
    {
     "data": {
      "text/html": [
       "<div>\n",
       "<table border=\"1\" class=\"dataframe\">\n",
       "  <thead>\n",
       "    <tr style=\"text-align: right;\">\n",
       "      <th></th>\n",
       "      <th>OutcomeType</th>\n",
       "      <th>AnimalType</th>\n",
       "      <th>SexuponOutcome</th>\n",
       "      <th>AgeuponOutcome</th>\n",
       "      <th>Breed</th>\n",
       "      <th>Color</th>\n",
       "    </tr>\n",
       "  </thead>\n",
       "  <tbody>\n",
       "  </tbody>\n",
       "</table>\n",
       "</div>"
      ],
      "text/plain": [
       "Empty DataFrame\n",
       "Columns: [OutcomeType, AnimalType, SexuponOutcome, AgeuponOutcome, Breed, Color]\n",
       "Index: []"
      ]
     },
     "execution_count": 10,
     "metadata": {},
     "output_type": "execute_result"
    }
   ],
   "source": [
    "train_df['SexuponOutcome'] = train_df['SexuponOutcome'].apply(lambda x: x.strip() if type( x ) is str else  x)\n",
    "#train_df['SexuponOutcome'] = train_df['SexuponOutcome'].apply( lambda x: 'Unknown' if x == None else x )\n",
    "train_df['SexuponOutcome'] = train_df['SexuponOutcome'].fillna( 'Unknown' )\n",
    "print train_df['SexuponOutcome'].value_counts()\n",
    "print train_df['SexuponOutcome'].value_counts().sum()\n",
    "# the folling code invoke '1' means there is a nan value\n",
    "# not anymore since fillna()\n",
    "print len( train_df ) - train_df['SexuponOutcome'].value_counts().sum()\n",
    "train_df[ train_df['SexuponOutcome'].isnull() ]"
   ]
  },
  {
   "cell_type": "code",
   "execution_count": 11,
   "metadata": {
    "collapsed": false
   },
   "outputs": [
    {
     "data": {
      "text/html": [
       "<div>\n",
       "<table border=\"1\" class=\"dataframe\">\n",
       "  <thead>\n",
       "    <tr style=\"text-align: right;\">\n",
       "      <th></th>\n",
       "      <th>OutcomeType</th>\n",
       "      <th>AnimalType</th>\n",
       "      <th>SexuponOutcome</th>\n",
       "      <th>AgeuponOutcome</th>\n",
       "      <th>Breed</th>\n",
       "      <th>Color</th>\n",
       "      <th>Sex</th>\n",
       "      <th>Processed</th>\n",
       "    </tr>\n",
       "  </thead>\n",
       "  <tbody>\n",
       "    <tr>\n",
       "      <th>0</th>\n",
       "      <td>Return_to_owner</td>\n",
       "      <td>Dog</td>\n",
       "      <td>Neutered Male</td>\n",
       "      <td>12</td>\n",
       "      <td>Shetland Sheepdog Mix</td>\n",
       "      <td>Brown/White</td>\n",
       "      <td>Male</td>\n",
       "      <td>Castrated</td>\n",
       "    </tr>\n",
       "    <tr>\n",
       "      <th>1</th>\n",
       "      <td>Euthanasia</td>\n",
       "      <td>Cat</td>\n",
       "      <td>Spayed Female</td>\n",
       "      <td>12</td>\n",
       "      <td>Domestic Shorthair Mix</td>\n",
       "      <td>Cream Tabby</td>\n",
       "      <td>Female</td>\n",
       "      <td>Castrated</td>\n",
       "    </tr>\n",
       "    <tr>\n",
       "      <th>2</th>\n",
       "      <td>Adoption</td>\n",
       "      <td>Dog</td>\n",
       "      <td>Neutered Male</td>\n",
       "      <td>24</td>\n",
       "      <td>Pit Bull Mix</td>\n",
       "      <td>Blue/White</td>\n",
       "      <td>Male</td>\n",
       "      <td>Castrated</td>\n",
       "    </tr>\n",
       "    <tr>\n",
       "      <th>3</th>\n",
       "      <td>Transfer</td>\n",
       "      <td>Cat</td>\n",
       "      <td>Intact Male</td>\n",
       "      <td>0</td>\n",
       "      <td>Domestic Shorthair Mix</td>\n",
       "      <td>Blue Cream</td>\n",
       "      <td>Male</td>\n",
       "      <td>Intact</td>\n",
       "    </tr>\n",
       "    <tr>\n",
       "      <th>4</th>\n",
       "      <td>Transfer</td>\n",
       "      <td>Dog</td>\n",
       "      <td>Neutered Male</td>\n",
       "      <td>24</td>\n",
       "      <td>Lhasa Apso/Miniature Poodle</td>\n",
       "      <td>Tan</td>\n",
       "      <td>Male</td>\n",
       "      <td>Castrated</td>\n",
       "    </tr>\n",
       "  </tbody>\n",
       "</table>\n",
       "</div>"
      ],
      "text/plain": [
       "       OutcomeType AnimalType SexuponOutcome  AgeuponOutcome  \\\n",
       "0  Return_to_owner        Dog  Neutered Male              12   \n",
       "1       Euthanasia        Cat  Spayed Female              12   \n",
       "2         Adoption        Dog  Neutered Male              24   \n",
       "3         Transfer        Cat    Intact Male               0   \n",
       "4         Transfer        Dog  Neutered Male              24   \n",
       "\n",
       "                         Breed        Color     Sex  Processed  \n",
       "0        Shetland Sheepdog Mix  Brown/White    Male  Castrated  \n",
       "1       Domestic Shorthair Mix  Cream Tabby  Female  Castrated  \n",
       "2                 Pit Bull Mix   Blue/White    Male  Castrated  \n",
       "3       Domestic Shorthair Mix   Blue Cream    Male     Intact  \n",
       "4  Lhasa Apso/Miniature Poodle          Tan    Male  Castrated  "
      ]
     },
     "execution_count": 11,
     "metadata": {},
     "output_type": "execute_result"
    }
   ],
   "source": [
    "train_df['Sex'] = train_df['SexuponOutcome'].apply( lambda x: x.strip().split()[-1] )\n",
    "asp = lambda x: 'Castrated' if x in ['Neutered', 'Spayed'] else x\n",
    "train_df['Processed'] = train_df['SexuponOutcome'].apply( lambda x: x.strip().split()[0] ).apply(asp)\n",
    "train_df_w = copy.deepcopy( train_df )\n",
    "train_df_w.head()"
   ]
  },
  {
   "cell_type": "markdown",
   "metadata": {},
   "source": [
    "## Label encoding"
   ]
  },
  {
   "cell_type": "code",
   "execution_count": 12,
   "metadata": {
    "collapsed": false
   },
   "outputs": [],
   "source": [
    "from sklearn.preprocessing import LabelEncoder\n",
    "\n",
    "fit_headers = [ 'OutcomeType', 'AnimalType', 'SexuponOutcome','Sex', 'Processed', 'Breed', 'Color' ]\n",
    "\n",
    "# Exclude Breed and Color\n",
    "fit_headers = fit_headers[:5]\n",
    "\n",
    "lel = [ LabelEncoder() for i in range( len(fit_headers) ) ]\n",
    "fitted_lel = [ l.fit( train_df[ fit_headers[i] ] ) for i, l in enumerate(lel) ]\n",
    "for i, l in enumerate( fitted_lel ):\n",
    "    train_df[fit_headers[i]] = l.transform( train_df[fit_headers[i]] )"
   ]
  },
  {
   "cell_type": "code",
   "execution_count": 13,
   "metadata": {
    "collapsed": false
   },
   "outputs": [
    {
     "name": "stdout",
     "output_type": "stream",
     "text": [
      "['Adoption' 'Died' 'Euthanasia' 'Return_to_owner' 'Transfer']\n",
      "['Cat' 'Dog']\n",
      "['Intact Female' 'Intact Male' 'Neutered Male' 'Spayed Female' 'Unknown']\n",
      "['Female' 'Male' 'Unknown']\n",
      "['Castrated' 'Intact' 'Unknown']\n"
     ]
    }
   ],
   "source": [
    "for i in lel:\n",
    "    print i.classes_"
   ]
  },
  {
   "cell_type": "code",
   "execution_count": 14,
   "metadata": {
    "collapsed": false
   },
   "outputs": [
    {
     "data": {
      "text/html": [
       "<div>\n",
       "<table border=\"1\" class=\"dataframe\">\n",
       "  <thead>\n",
       "    <tr style=\"text-align: right;\">\n",
       "      <th></th>\n",
       "      <th>OutcomeType</th>\n",
       "      <th>AnimalType</th>\n",
       "      <th>SexuponOutcome</th>\n",
       "      <th>AgeuponOutcome</th>\n",
       "      <th>Breed</th>\n",
       "      <th>Color</th>\n",
       "      <th>Sex</th>\n",
       "      <th>Processed</th>\n",
       "    </tr>\n",
       "  </thead>\n",
       "  <tbody>\n",
       "    <tr>\n",
       "      <th>0</th>\n",
       "      <td>3</td>\n",
       "      <td>1</td>\n",
       "      <td>2</td>\n",
       "      <td>12</td>\n",
       "      <td>Shetland Sheepdog Mix</td>\n",
       "      <td>Brown/White</td>\n",
       "      <td>1</td>\n",
       "      <td>0</td>\n",
       "    </tr>\n",
       "    <tr>\n",
       "      <th>1</th>\n",
       "      <td>2</td>\n",
       "      <td>0</td>\n",
       "      <td>3</td>\n",
       "      <td>12</td>\n",
       "      <td>Domestic Shorthair Mix</td>\n",
       "      <td>Cream Tabby</td>\n",
       "      <td>0</td>\n",
       "      <td>0</td>\n",
       "    </tr>\n",
       "    <tr>\n",
       "      <th>2</th>\n",
       "      <td>0</td>\n",
       "      <td>1</td>\n",
       "      <td>2</td>\n",
       "      <td>24</td>\n",
       "      <td>Pit Bull Mix</td>\n",
       "      <td>Blue/White</td>\n",
       "      <td>1</td>\n",
       "      <td>0</td>\n",
       "    </tr>\n",
       "    <tr>\n",
       "      <th>3</th>\n",
       "      <td>4</td>\n",
       "      <td>0</td>\n",
       "      <td>1</td>\n",
       "      <td>0</td>\n",
       "      <td>Domestic Shorthair Mix</td>\n",
       "      <td>Blue Cream</td>\n",
       "      <td>1</td>\n",
       "      <td>1</td>\n",
       "    </tr>\n",
       "    <tr>\n",
       "      <th>4</th>\n",
       "      <td>4</td>\n",
       "      <td>1</td>\n",
       "      <td>2</td>\n",
       "      <td>24</td>\n",
       "      <td>Lhasa Apso/Miniature Poodle</td>\n",
       "      <td>Tan</td>\n",
       "      <td>1</td>\n",
       "      <td>0</td>\n",
       "    </tr>\n",
       "  </tbody>\n",
       "</table>\n",
       "</div>"
      ],
      "text/plain": [
       "   OutcomeType  AnimalType  SexuponOutcome  AgeuponOutcome  \\\n",
       "0            3           1               2              12   \n",
       "1            2           0               3              12   \n",
       "2            0           1               2              24   \n",
       "3            4           0               1               0   \n",
       "4            4           1               2              24   \n",
       "\n",
       "                         Breed        Color  Sex  Processed  \n",
       "0        Shetland Sheepdog Mix  Brown/White    1          0  \n",
       "1       Domestic Shorthair Mix  Cream Tabby    0          0  \n",
       "2                 Pit Bull Mix   Blue/White    1          0  \n",
       "3       Domestic Shorthair Mix   Blue Cream    1          1  \n",
       "4  Lhasa Apso/Miniature Poodle          Tan    1          0  "
      ]
     },
     "execution_count": 14,
     "metadata": {},
     "output_type": "execute_result"
    }
   ],
   "source": [
    "train_df.head()"
   ]
  },
  {
   "cell_type": "code",
   "execution_count": 15,
   "metadata": {
    "collapsed": false
   },
   "outputs": [],
   "source": [
    "#cols = df.columns.tolist()\n",
    "#cols = cols[-1:] + cols[:-1]\n",
    "#df = df[cols]  #    OR    df = df.ix[:, cols]"
   ]
  },
  {
   "cell_type": "markdown",
   "metadata": {},
   "source": [
    "## Train data"
   ]
  },
  {
   "cell_type": "code",
   "execution_count": 53,
   "metadata": {
    "collapsed": false
   },
   "outputs": [],
   "source": [
    "from sklearn.metrics import classification_report\n",
    "from sklearn.naive_bayes import GaussianNB\n",
    "from sklearn.multiclass import OneVsRestClassifier, OneVsOneClassifier\n",
    "from sklearn.discriminant_analysis import QuadraticDiscriminantAnalysis\n",
    "from sklearn.cross_validation import train_test_split\n",
    "from sklearn.decomposition import PCA\n",
    "\n",
    "from sklearn.linear_model import LogisticRegression\n",
    "from sklearn.svm import SVC, LinearSVC\n",
    "from sklearn.ensemble import VotingClassifier, RandomForestClassifier, BaggingClassifier, ExtraTreesClassifier"
   ]
  },
  {
   "cell_type": "code",
   "execution_count": 17,
   "metadata": {
    "collapsed": true
   },
   "outputs": [],
   "source": [
    "# log loss function to check out the train result\n",
    "from math import log\n",
    "def evaluation_SAO( prediction_set, dfy ):\n",
    "    len_pred = len( prediction_set )\n",
    "    eval_ret = [ [ max( min( c, (1.0 - (10 ** -15)) ), ( 10 ** -15 ) ) for c in r ] for r in prediction_set ]\n",
    "    sum_c = [ sum( [ log(xc) * yc for xc, yc in zip( xr, yr ) ] ) for xr, yr in zip( eval_ret, dfy ) ]\n",
    "    sum_r = sum( sum_c ) / len_pred * -1\n",
    "    return sum_r\n",
    "\n",
    "def ytolist( dfy ):\n",
    "    len_outcomes = 5\n",
    "    return [ [ 1 if c is int(r) else 0 for c in range( len_outcomes )  ] for r in dfy ]"
   ]
  },
  {
   "cell_type": "markdown",
   "metadata": {},
   "source": [
    "## X: AnimalType, Sex, Processed"
   ]
  },
  {
   "cell_type": "code",
   "execution_count": 18,
   "metadata": {
    "collapsed": false
   },
   "outputs": [
    {
     "name": "stdout",
     "output_type": "stream",
     "text": [
      "['OutcomeType', 'AnimalType', 'SexuponOutcome', 'AgeuponOutcome', 'Breed', 'Color', 'Sex', 'Processed']\n",
      "       AnimalType  Sex  Processed\n",
      "26724           0    1          1\n",
      "26725           0    0          0\n",
      "26726           1    1          0\n",
      "26727           0    1          1\n",
      "26728           0    1          1\n"
     ]
    }
   ],
   "source": [
    "print train_df.columns.tolist()\n",
    "dfx_asp = train_df[ ['AnimalType', 'Sex', 'Processed' ] ]\n",
    "dfy = train_df[ 'OutcomeType' ]\n",
    "print dfx_asp.tail()"
   ]
  },
  {
   "cell_type": "code",
   "execution_count": 19,
   "metadata": {
    "collapsed": false
   },
   "outputs": [],
   "source": [
    "xtrain, xtest, ytrain, ytest = train_test_split( dfx_asp, dfy, test_size=0.2 )"
   ]
  },
  {
   "cell_type": "markdown",
   "metadata": {},
   "source": [
    "### GausianNB"
   ]
  },
  {
   "cell_type": "code",
   "execution_count": 20,
   "metadata": {
    "collapsed": false
   },
   "outputs": [
    {
     "name": "stdout",
     "output_type": "stream",
     "text": [
      "             precision    recall  f1-score   support\n",
      "\n",
      "          0       0.57      0.97      0.72      2171\n",
      "          1       0.00      0.00      0.00        38\n",
      "          2       0.00      0.00      0.00       307\n",
      "          3       0.00      0.00      0.00       950\n",
      "          4       0.72      0.62      0.67      1880\n",
      "\n",
      "avg / total       0.48      0.61      0.53      5346\n",
      "\n"
     ]
    },
    {
     "name": "stderr",
     "output_type": "stream",
     "text": [
      "C:\\Users\\SJPark\\Anaconda2\\lib\\site-packages\\sklearn\\metrics\\classification.py:1074: UndefinedMetricWarning: Precision and F-score are ill-defined and being set to 0.0 in labels with no predicted samples.\n",
      "  'precision', 'predicted', average, warn_for)\n"
     ]
    }
   ],
   "source": [
    "mdl_gaussian = GaussianNB()\n",
    "mdl_gaussian.fit( xtrain, ytrain )\n",
    "print classification_report( ytest, mdl_gaussian.predict( xtest ) )"
   ]
  },
  {
   "cell_type": "code",
   "execution_count": 21,
   "metadata": {
    "collapsed": false
   },
   "outputs": [
    {
     "name": "stdout",
     "output_type": "stream",
     "text": [
      "train accuracy:  0.606463078146\n",
      "test accuracy:  0.613355780022\n",
      "submit score train:  1.20742185545\n",
      "submit score test:  1.16118523063\n"
     ]
    }
   ],
   "source": [
    "print 'train accuracy: ', mdl_gaussian.score( xtrain, ytrain )\n",
    "print 'test accuracy: ', mdl_gaussian.score( xtest, ytest )\n",
    "print 'submit score train: ', evaluation_SAO( mdl_gaussian.predict_proba( xtrain ), ytolist( ytrain ) )\n",
    "print 'submit score test: ', evaluation_SAO( mdl_gaussian.predict_proba( xtest ), ytolist( ytest ) )"
   ]
  },
  {
   "cell_type": "markdown",
   "metadata": {},
   "source": [
    "### Support vector machine classifier"
   ]
  },
  {
   "cell_type": "code",
   "execution_count": 22,
   "metadata": {
    "collapsed": false,
    "scrolled": true
   },
   "outputs": [
    {
     "name": "stdout",
     "output_type": "stream",
     "text": [
      "             precision    recall  f1-score   support\n",
      "\n",
      "          0       0.57      0.97      0.72      2171\n",
      "          1       0.00      0.00      0.00        38\n",
      "          2       0.00      0.00      0.00       307\n",
      "          3       0.00      0.00      0.00       950\n",
      "          4       0.72      0.62      0.67      1880\n",
      "\n",
      "avg / total       0.48      0.61      0.53      5346\n",
      "\n"
     ]
    }
   ],
   "source": [
    "mdl_svc = SVC( probability = True )\n",
    "mdl_svc.fit( xtrain, ytrain )\n",
    "print classification_report( ytest, mdl_svc.predict( xtest ) )"
   ]
  },
  {
   "cell_type": "code",
   "execution_count": 23,
   "metadata": {
    "collapsed": false
   },
   "outputs": [
    {
     "name": "stdout",
     "output_type": "stream",
     "text": [
      "train accuracy:  0.606463078146\n",
      "test accuracy:  0.613355780022\n",
      "submit score train:  1.02176223409\n",
      "submit score test:  1.00994870647\n"
     ]
    }
   ],
   "source": [
    "print 'train accuracy: ', mdl_svc.score( xtrain, ytrain )\n",
    "print 'test accuracy: ', mdl_svc.score( xtest, ytest )\n",
    "print 'submit score train: ', evaluation_SAO( mdl_svc.predict_proba( xtrain ), ytolist( ytrain ) )\n",
    "print 'submit score test: ', evaluation_SAO( mdl_svc.predict_proba( xtest ), ytolist( ytest ) )"
   ]
  },
  {
   "cell_type": "markdown",
   "metadata": {},
   "source": [
    "### Logistic regression"
   ]
  },
  {
   "cell_type": "code",
   "execution_count": 24,
   "metadata": {
    "collapsed": false
   },
   "outputs": [
    {
     "name": "stdout",
     "output_type": "stream",
     "text": [
      "             precision    recall  f1-score   support\n",
      "\n",
      "          0       0.57      0.97      0.72      2171\n",
      "          1       0.00      0.00      0.00        38\n",
      "          2       0.00      0.00      0.00       307\n",
      "          3       0.00      0.00      0.00       950\n",
      "          4       0.72      0.62      0.67      1880\n",
      "\n",
      "avg / total       0.48      0.61      0.53      5346\n",
      "\n"
     ]
    }
   ],
   "source": [
    "mdl_logistic = LogisticRegression()\n",
    "mdl_logistic.fit( xtrain, ytrain )\n",
    "print classification_report( ytest, mdl_logistic.predict( xtest ) )"
   ]
  },
  {
   "cell_type": "code",
   "execution_count": 25,
   "metadata": {
    "collapsed": false
   },
   "outputs": [
    {
     "name": "stdout",
     "output_type": "stream",
     "text": [
      "train accuracy:  0.606463078146\n",
      "test accuracy:  0.613355780022\n",
      "submit score train:  1.00277511937\n",
      "submit score test:  0.991438894883\n"
     ]
    }
   ],
   "source": [
    "print 'train accuracy: ', mdl_logistic.score( xtrain, ytrain )\n",
    "print 'test accuracy: ', mdl_logistic.score( xtest, ytest )\n",
    "print 'submit score train: ', evaluation_SAO( mdl_logistic.predict_proba( xtrain ), ytolist( ytrain ) )\n",
    "print 'submit score test: ', evaluation_SAO( mdl_logistic.predict_proba( xtest ), ytolist( ytest ) )"
   ]
  },
  {
   "cell_type": "markdown",
   "metadata": {},
   "source": [
    "## X: AnimalType, Sex, Processed, AgeuponOutcome"
   ]
  },
  {
   "cell_type": "code",
   "execution_count": 26,
   "metadata": {
    "collapsed": false
   },
   "outputs": [
    {
     "name": "stdout",
     "output_type": "stream",
     "text": [
      "['OutcomeType', 'AnimalType', 'SexuponOutcome', 'AgeuponOutcome', 'Breed', 'Color', 'Sex', 'Processed']\n",
      "       AnimalType  Sex  Processed  AgeuponOutcome\n",
      "26724           0    1          1               1\n",
      "26725           0    0          0               3\n",
      "26726           1    1          0              48\n",
      "26727           0    1          1               0\n",
      "26728           0    1          1              12\n"
     ]
    }
   ],
   "source": [
    "print train_df.columns.tolist()\n",
    "dfx_aspa = train_df[ ['AnimalType', 'Sex', 'Processed', 'AgeuponOutcome' ] ]\n",
    "dfy = train_df[ 'OutcomeType' ]\n",
    "print dfx_aspa.tail()"
   ]
  },
  {
   "cell_type": "code",
   "execution_count": 27,
   "metadata": {
    "collapsed": true
   },
   "outputs": [],
   "source": [
    "xtrain, xtest, ytrain, ytest = train_test_split( dfx_asp, dfy, test_size=0.2 )"
   ]
  },
  {
   "cell_type": "code",
   "execution_count": 28,
   "metadata": {
    "collapsed": false
   },
   "outputs": [
    {
     "name": "stdout",
     "output_type": "stream",
     "text": [
      "             precision    recall  f1-score   support\n",
      "\n",
      "          0       0.57      0.97      0.72      2212\n",
      "          1       0.00      0.00      0.00        29\n",
      "          2       0.00      0.00      0.00       296\n",
      "          3       0.00      0.00      0.00       931\n",
      "          4       0.73      0.61      0.66      1878\n",
      "\n",
      "avg / total       0.49      0.62      0.53      5346\n",
      "\n",
      "\n",
      "train accuracy:  0.605901884675\n",
      "test accuracy:  0.615600448934\n",
      "submit score train:  1.00366623844\n",
      "submit score test:  0.987393607024\n"
     ]
    }
   ],
   "source": [
    "mdl_logistic = LogisticRegression()\n",
    "mdl_logistic.fit( xtrain, ytrain )\n",
    "print classification_report( ytest, mdl_logistic.predict( xtest ) )\n",
    "print\n",
    "print 'train accuracy: ', mdl_logistic.score( xtrain, ytrain )\n",
    "print 'test accuracy: ', mdl_logistic.score( xtest, ytest )\n",
    "print 'submit score train: ', evaluation_SAO( mdl_logistic.predict_proba( xtrain ), ytolist( ytrain ) )\n",
    "print 'submit score test: ', evaluation_SAO( mdl_logistic.predict_proba( xtest ), ytolist( ytest ) )"
   ]
  },
  {
   "cell_type": "code",
   "execution_count": 29,
   "metadata": {
    "collapsed": false
   },
   "outputs": [
    {
     "name": "stdout",
     "output_type": "stream",
     "text": [
      "             precision    recall  f1-score   support\n",
      "\n",
      "          0       0.57      0.97      0.72      2212\n",
      "          1       0.00      0.00      0.00        29\n",
      "          2       0.00      0.00      0.00       296\n",
      "          3       0.00      0.00      0.00       931\n",
      "          4       0.73      0.61      0.66      1878\n",
      "\n",
      "avg / total       0.49      0.62      0.53      5346\n",
      "\n",
      "\n",
      "train accuracy:  0.605901884675\n",
      "test accuracy:  0.615600448934\n",
      "submit score train:  1.02314137506\n",
      "submit score test:  1.00427512329\n"
     ]
    }
   ],
   "source": [
    "mdl_svc = SVC( probability = True )\n",
    "mdl_svc.fit( xtrain, ytrain )\n",
    "print classification_report( ytest, mdl_svc.predict( xtest ) )\n",
    "print\n",
    "print 'train accuracy: ', mdl_svc.score( xtrain, ytrain )\n",
    "print 'test accuracy: ', mdl_svc.score( xtest, ytest )\n",
    "print 'submit score train: ', evaluation_SAO( mdl_svc.predict_proba( xtrain ), ytolist( ytrain ) )\n",
    "print 'submit score test: ', evaluation_SAO( mdl_svc.predict_proba( xtest ), ytolist( ytest ) )"
   ]
  },
  {
   "cell_type": "markdown",
   "metadata": {},
   "source": [
    "## X: AnimalType, AgeuponOutcome"
   ]
  },
  {
   "cell_type": "code",
   "execution_count": 30,
   "metadata": {
    "collapsed": false
   },
   "outputs": [
    {
     "name": "stdout",
     "output_type": "stream",
     "text": [
      "['OutcomeType', 'AnimalType', 'SexuponOutcome', 'AgeuponOutcome', 'Breed', 'Color', 'Sex', 'Processed']\n",
      "       AnimalType  AgeuponOutcome\n",
      "26724           0               1\n",
      "26725           0               3\n",
      "26726           1              48\n",
      "26727           0               0\n",
      "26728           0              12\n"
     ]
    }
   ],
   "source": [
    "print train_df.columns.tolist()\n",
    "dfx_aspa = train_df[ ['AnimalType', 'AgeuponOutcome' ] ]\n",
    "dfy = train_df[ 'OutcomeType' ]\n",
    "print dfx_aspa.tail()"
   ]
  },
  {
   "cell_type": "code",
   "execution_count": 31,
   "metadata": {
    "collapsed": true
   },
   "outputs": [],
   "source": [
    "xtrain, xtest, ytrain, ytest = train_test_split( dfx_asp, dfy, test_size=0.2 )"
   ]
  },
  {
   "cell_type": "code",
   "execution_count": 32,
   "metadata": {
    "collapsed": false
   },
   "outputs": [
    {
     "name": "stdout",
     "output_type": "stream",
     "text": [
      "             precision    recall  f1-score   support\n",
      "\n",
      "          0       0.56      0.96      0.71      2182\n",
      "          1       0.00      0.00      0.00        52\n",
      "          2       0.00      0.00      0.00       276\n",
      "          3       0.00      0.00      0.00       941\n",
      "          4       0.72      0.62      0.67      1895\n",
      "\n",
      "avg / total       0.49      0.61      0.53      5346\n",
      "\n",
      "\n",
      "train accuracy:  0.606556610391\n",
      "test accuracy:  0.612981668537\n",
      "submit score train:  1.00084760591\n",
      "submit score test:  0.998282610202\n"
     ]
    }
   ],
   "source": [
    "mdl_logistic = LogisticRegression()\n",
    "mdl_logistic.fit( xtrain, ytrain )\n",
    "print classification_report( ytest, mdl_logistic.predict( xtest ) )\n",
    "print\n",
    "print 'train accuracy: ', mdl_logistic.score( xtrain, ytrain )\n",
    "print 'test accuracy: ', mdl_logistic.score( xtest, ytest )\n",
    "print 'submit score train: ', evaluation_SAO( mdl_logistic.predict_proba( xtrain ), ytolist( ytrain ) )\n",
    "print 'submit score test: ', evaluation_SAO( mdl_logistic.predict_proba( xtest ), ytolist( ytest ) )"
   ]
  },
  {
   "cell_type": "markdown",
   "metadata": {},
   "source": [
    "## Extending features"
   ]
  },
  {
   "cell_type": "code",
   "execution_count": 33,
   "metadata": {
    "collapsed": false
   },
   "outputs": [
    {
     "name": "stdout",
     "output_type": "stream",
     "text": [
      "['OutcomeType', 'AnimalType', 'SexuponOutcome', 'AgeuponOutcome', 'Breed', 'Color', 'Sex', 'Processed']\n",
      "       AnimalType  AgeuponOutcome\n",
      "26724           0               1\n",
      "26725           0               3\n",
      "26726           1              48\n",
      "26727           0               0\n",
      "26728           0              12\n"
     ]
    }
   ],
   "source": [
    "print train_df.columns.tolist()\n",
    "dfx_aspa = train_df[ ['AnimalType', 'AgeuponOutcome' ] ]\n",
    "dfy = train_df[ 'OutcomeType' ]\n",
    "print dfx_aspa.tail()"
   ]
  },
  {
   "cell_type": "code",
   "execution_count": 34,
   "metadata": {
    "collapsed": true
   },
   "outputs": [],
   "source": [
    "xtrain, xtest, ytrain, ytest = train_test_split( dfx_asp, dfy, test_size=0.2 )"
   ]
  },
  {
   "cell_type": "code",
   "execution_count": 35,
   "metadata": {
    "collapsed": false
   },
   "outputs": [
    {
     "name": "stdout",
     "output_type": "stream",
     "text": [
      "             precision    recall  f1-score   support\n",
      "\n",
      "          0       0.56      0.97      0.71      2137\n",
      "          1       0.00      0.00      0.00        41\n",
      "          2       0.00      0.00      0.00       330\n",
      "          3       0.00      0.00      0.00       928\n",
      "          4       0.70      0.61      0.65      1910\n",
      "\n",
      "avg / total       0.48      0.61      0.52      5346\n",
      "\n",
      "\n",
      "train accuracy:  0.608427255296\n",
      "test accuracy:  0.605499438833\n",
      "submit score train:  0.998670180759\n",
      "submit score test:  1.00798702746\n"
     ]
    }
   ],
   "source": [
    "mdl_logistic = LogisticRegression()\n",
    "mdl_logistic.fit( xtrain, ytrain )\n",
    "print classification_report( ytest, mdl_logistic.predict( xtest ) )\n",
    "print\n",
    "print 'train accuracy: ', mdl_logistic.score( xtrain, ytrain )\n",
    "print 'test accuracy: ', mdl_logistic.score( xtest, ytest )\n",
    "print 'submit score train: ', evaluation_SAO( mdl_logistic.predict_proba( xtrain ), ytolist( ytrain ) )\n",
    "print 'submit score test: ', evaluation_SAO( mdl_logistic.predict_proba( xtest ), ytolist( ytest ) )"
   ]
  },
  {
   "cell_type": "markdown",
   "metadata": {},
   "source": [
    "## nltk for color and breed"
   ]
  },
  {
   "cell_type": "code",
   "execution_count": 36,
   "metadata": {
    "collapsed": false
   },
   "outputs": [
    {
     "name": "stdout",
     "output_type": "stream",
     "text": [
      "26729\n"
     ]
    },
    {
     "data": {
      "text/html": [
       "<div>\n",
       "<table border=\"1\" class=\"dataframe\">\n",
       "  <thead>\n",
       "    <tr style=\"text-align: right;\">\n",
       "      <th></th>\n",
       "      <th>OutcomeType</th>\n",
       "      <th>AnimalType</th>\n",
       "      <th>SexuponOutcome</th>\n",
       "      <th>AgeuponOutcome</th>\n",
       "      <th>Breed</th>\n",
       "      <th>Color</th>\n",
       "      <th>Sex</th>\n",
       "      <th>Processed</th>\n",
       "    </tr>\n",
       "  </thead>\n",
       "  <tbody>\n",
       "    <tr>\n",
       "      <th>0</th>\n",
       "      <td>Return_to_owner</td>\n",
       "      <td>Dog</td>\n",
       "      <td>Neutered Male</td>\n",
       "      <td>12</td>\n",
       "      <td>Shetland Sheepdog Mix</td>\n",
       "      <td>Brown/White</td>\n",
       "      <td>Male</td>\n",
       "      <td>Castrated</td>\n",
       "    </tr>\n",
       "    <tr>\n",
       "      <th>1</th>\n",
       "      <td>Euthanasia</td>\n",
       "      <td>Cat</td>\n",
       "      <td>Spayed Female</td>\n",
       "      <td>12</td>\n",
       "      <td>Domestic Shorthair Mix</td>\n",
       "      <td>Cream Tabby</td>\n",
       "      <td>Female</td>\n",
       "      <td>Castrated</td>\n",
       "    </tr>\n",
       "    <tr>\n",
       "      <th>2</th>\n",
       "      <td>Adoption</td>\n",
       "      <td>Dog</td>\n",
       "      <td>Neutered Male</td>\n",
       "      <td>24</td>\n",
       "      <td>Pit Bull Mix</td>\n",
       "      <td>Blue/White</td>\n",
       "      <td>Male</td>\n",
       "      <td>Castrated</td>\n",
       "    </tr>\n",
       "    <tr>\n",
       "      <th>3</th>\n",
       "      <td>Transfer</td>\n",
       "      <td>Cat</td>\n",
       "      <td>Intact Male</td>\n",
       "      <td>0</td>\n",
       "      <td>Domestic Shorthair Mix</td>\n",
       "      <td>Blue Cream</td>\n",
       "      <td>Male</td>\n",
       "      <td>Intact</td>\n",
       "    </tr>\n",
       "    <tr>\n",
       "      <th>4</th>\n",
       "      <td>Transfer</td>\n",
       "      <td>Dog</td>\n",
       "      <td>Neutered Male</td>\n",
       "      <td>24</td>\n",
       "      <td>Lhasa Apso/Miniature Poodle</td>\n",
       "      <td>Tan</td>\n",
       "      <td>Male</td>\n",
       "      <td>Castrated</td>\n",
       "    </tr>\n",
       "  </tbody>\n",
       "</table>\n",
       "</div>"
      ],
      "text/plain": [
       "       OutcomeType AnimalType SexuponOutcome  AgeuponOutcome  \\\n",
       "0  Return_to_owner        Dog  Neutered Male              12   \n",
       "1       Euthanasia        Cat  Spayed Female              12   \n",
       "2         Adoption        Dog  Neutered Male              24   \n",
       "3         Transfer        Cat    Intact Male               0   \n",
       "4         Transfer        Dog  Neutered Male              24   \n",
       "\n",
       "                         Breed        Color     Sex  Processed  \n",
       "0        Shetland Sheepdog Mix  Brown/White    Male  Castrated  \n",
       "1       Domestic Shorthair Mix  Cream Tabby  Female  Castrated  \n",
       "2                 Pit Bull Mix   Blue/White    Male  Castrated  \n",
       "3       Domestic Shorthair Mix   Blue Cream    Male     Intact  \n",
       "4  Lhasa Apso/Miniature Poodle          Tan    Male  Castrated  "
      ]
     },
     "execution_count": 36,
     "metadata": {},
     "output_type": "execute_result"
    }
   ],
   "source": [
    "print len( train_df_w )\n",
    "train_df_w.head()"
   ]
  },
  {
   "cell_type": "code",
   "execution_count": 37,
   "metadata": {
    "collapsed": false
   },
   "outputs": [
    {
     "name": "stdout",
     "output_type": "stream",
     "text": [
      "0    [Brown, White]\n",
      "1    [Cream, Tabby]\n",
      "2     [Blue, White]\n",
      "Name: Color, dtype: object 26729\n",
      "0     [Shetland, Sheepdog, Mix]\n",
      "1    [Domestic, Shorthair, Mix]\n",
      "2              [Pit, Bull, Mix]\n",
      "Name: Breed, dtype: object 26729\n",
      "0      [Male]\n",
      "1    [Female]\n",
      "2      [Male]\n",
      "Name: Sex, dtype: object 26729\n",
      "0    [Castrated]\n",
      "1    [Castrated]\n",
      "2    [Castrated]\n",
      "Name: Processed, dtype: object 26729\n",
      "0    [Dog]\n",
      "1    [Cat]\n",
      "2    [Dog]\n",
      "Name: AnimalType, dtype: object 26729\n"
     ]
    }
   ],
   "source": [
    "xclr = train_df_w[ 'Color' ]\n",
    "xbrd = train_df_w[ 'Breed' ]\n",
    "xat = train_df_w[ 'AnimalType' ]\n",
    "xso = train_df_w[ 'Sex' ]\n",
    "xsp = train_df_w[ 'Processed' ]\n",
    "\n",
    "yot = train_df_w[ 'OutcomeType']\n",
    "\n",
    "rep = lambda x : x.replace( '/', ' ' ).strip().split()\n",
    "spl = lambda x : x.split() if type(x) is str else ['none']\n",
    "xclr = xclr.apply( rep )\n",
    "xbrd = xbrd.apply( rep )\n",
    "xso = xso.apply( spl )\n",
    "xsp = xsp.apply( spl )\n",
    "xat = xat.apply( spl )\n",
    "\n",
    "print xclr.head(3), len( xclr )\n",
    "print xbrd.head(3), len( xbrd )\n",
    "print xso.head(3), len( xso )\n",
    "print xsp.head(3), len( xsp )\n",
    "print xat.head(3), len( xat )"
   ]
  },
  {
   "cell_type": "code",
   "execution_count": 38,
   "metadata": {
    "collapsed": false
   },
   "outputs": [],
   "source": [
    "# Words to dict\n",
    "def feature_format(words):\n",
    "    return dict([(word, True) for word in words] )"
   ]
  },
  {
   "cell_type": "code",
   "execution_count": 39,
   "metadata": {
    "collapsed": false
   },
   "outputs": [
    {
     "data": {
      "text/plain": [
       "[({'Mix': True, 'Sheepdog': True, 'Shetland': True}, 'Return_to_owner'),\n",
       " ({'Domestic': True, 'Mix': True, 'Shorthair': True}, 'Euthanasia'),\n",
       " ({'Bull': True, 'Mix': True, 'Pit': True}, 'Adoption'),\n",
       " ({'Domestic': True, 'Mix': True, 'Shorthair': True}, 'Transfer'),\n",
       " ({'Apso': True, 'Lhasa': True, 'Miniature': True, 'Poodle': True},\n",
       "  'Transfer')]"
      ]
     },
     "execution_count": 39,
     "metadata": {},
     "output_type": "execute_result"
    }
   ],
   "source": [
    "labeled_brd = [ (feature_format( c ), str( y )) for c, y in zip( xbrd, yot ) ]\n",
    "labeled_brd[:5]"
   ]
  },
  {
   "cell_type": "code",
   "execution_count": 40,
   "metadata": {
    "collapsed": true
   },
   "outputs": [],
   "source": [
    "procd_train = \\\n",
    "[ [ feature_format( b + s + p + a ), str( y ) ] for b, s, p, a, y in zip( xbrd, xso, xsp, xat, yot ) ]"
   ]
  },
  {
   "cell_type": "code",
   "execution_count": 41,
   "metadata": {
    "collapsed": false
   },
   "outputs": [
    {
     "name": "stdout",
     "output_type": "stream",
     "text": [
      "0.48355718508\n",
      "Most Informative Features\n",
      "                 Unknown = True             Died : Return =     37.4 : 1.0\n",
      "                Brittany = True             Died : Transf =     28.6 : 1.0\n",
      "               Castrated = None             Died : Adopti =     24.2 : 1.0\n",
      "                   Akita = True             Died : Transf =     20.4 : 1.0\n",
      "                  Intact = True             Died : Adopti =     20.4 : 1.0\n",
      "               Himalayan = True             Died : Transf =     15.9 : 1.0\n",
      "                  Bichon = True           Return : Transf =     15.1 : 1.0\n",
      "                   Frise = True           Return : Transf =     15.1 : 1.0\n",
      "                    Manx = True             Died : Return =     14.5 : 1.0\n",
      "                Standard = True             Died : Transf =     14.0 : 1.0\n",
      "None\n"
     ]
    }
   ],
   "source": [
    "import nltk\n",
    "from nltk.classify import NaiveBayesClassifier\n",
    "\n",
    "pt_classifier = nltk.NaiveBayesClassifier.train( procd_train )\n",
    "print( nltk.classify.accuracy( pt_classifier, procd_train ) )\n",
    "print pt_classifier.show_most_informative_features()"
   ]
  },
  {
   "cell_type": "code",
   "execution_count": 42,
   "metadata": {
    "collapsed": true
   },
   "outputs": [],
   "source": [
    "def get_classifier_prob( classifier, dfx ):\n",
    "    dfx_processed = dfx.apply( feature_format )\n",
    "    labels = classifier.labels()\n",
    "    probs = []\n",
    "    for i in dfx_processed:\n",
    "        probs.append( [classifier.prob_classify( i ).prob( lbl ) for lbl in labels] )    \n",
    "    \n",
    "    return probs"
   ]
  },
  {
   "cell_type": "code",
   "execution_count": 43,
   "metadata": {
    "collapsed": false
   },
   "outputs": [
    {
     "data": {
      "text/plain": [
       "0      [Shetland, Sheepdog, Mix, Male, Castrated, Dog]\n",
       "1    [Domestic, Shorthair, Mix, Female, Castrated, ...\n",
       "2               [Pit, Bull, Mix, Male, Castrated, Dog]\n",
       "3        [Domestic, Shorthair, Mix, Male, Intact, Cat]\n",
       "4    [Lhasa, Apso, Miniature, Poodle, Male, Castrat...\n",
       "Name: BAPS, dtype: object"
      ]
     },
     "execution_count": 43,
     "metadata": {},
     "output_type": "execute_result"
    }
   ],
   "source": [
    "dfx = [ b + s + p + a for b, s, p, a, y in zip( xbrd, xso, xsp, xat, yot ) ]\n",
    "dss = pd.DataFrame( data = {'BAPS':dfx} )[ 'BAPS' ]\n",
    "dss.head()"
   ]
  },
  {
   "cell_type": "code",
   "execution_count": 44,
   "metadata": {
    "collapsed": false
   },
   "outputs": [
    {
     "name": "stdout",
     "output_type": "stream",
     "text": [
      "[[0.03339241397059475, 0.22569924581126594, 0.7119017580173164, 0.0010514089234651056, 0.027955173277357744], [0.4783557483292614, 0.47770905503042643, 0.004423230211185791, 0.008339230051780723, 0.031172736377344943], [0.03894975321870475, 0.20339490336365945, 0.6593835050204871, 0.00013253426710030418, 0.09813930413004789]]\n"
     ]
    }
   ],
   "source": [
    "baps_prob = get_classifier_prob( pt_classifier, dss )\n",
    "print baps_prob[:3]"
   ]
  },
  {
   "cell_type": "code",
   "execution_count": 45,
   "metadata": {
    "collapsed": false
   },
   "outputs": [
    {
     "data": {
      "text/plain": [
       "['Transfer', 'Adoption', 'Return_to_owner', 'Died', 'Euthanasia']"
      ]
     },
     "execution_count": 45,
     "metadata": {},
     "output_type": "execute_result"
    }
   ],
   "source": [
    "pt_classifier.labels()"
   ]
  },
  {
   "cell_type": "code",
   "execution_count": 46,
   "metadata": {
    "collapsed": true
   },
   "outputs": [],
   "source": [
    "# inplace swap\n",
    "def swap( target, t1, t2 ):\n",
    "    target[t1], target[t2] = target[t2], target[t1]\n",
    "\n",
    "swap_seq = ((1,0), (3,1), (4,2), (4,3))\n",
    "\n",
    "def seq_swap( target, seq = swap_seq):\n",
    "    for s in seq:\n",
    "        swap( target, s[0], s[1] )\n",
    "        \n",
    "def combine_probs( rslts, ratio_list ):\n",
    "    return [[sum([rslts[k][i][j] * ratio_list[k] for k in range(len(rslts))]) \\\n",
    "      for j in range(len(rslts[0][i]))] for i in range(len(rslts[0]))]"
   ]
  },
  {
   "cell_type": "code",
   "execution_count": 47,
   "metadata": {
    "collapsed": false
   },
   "outputs": [
    {
     "name": "stdout",
     "output_type": "stream",
     "text": [
      "['OutcomeType', 'AnimalType', 'SexuponOutcome', 'AgeuponOutcome', 'Breed', 'Color', 'Sex', 'Processed']\n",
      "       AnimalType  Sex  Processed\n",
      "26724           0    1          1\n",
      "26725           0    0          0\n",
      "26726           1    1          0\n",
      "26727           0    1          1\n",
      "26728           0    1          1\n"
     ]
    }
   ],
   "source": [
    "print train_df.columns.tolist()\n",
    "dfx_aspa = train_df[ ['AnimalType', 'Sex', 'Processed']]#, 'AgeuponOutcome' ] ]\n",
    "dfy = train_df[ 'OutcomeType' ]\n",
    "print dfx_aspa.tail()"
   ]
  },
  {
   "cell_type": "code",
   "execution_count": 48,
   "metadata": {
    "collapsed": false,
    "scrolled": true
   },
   "outputs": [
    {
     "name": "stdout",
     "output_type": "stream",
     "text": [
      "             precision    recall  f1-score   support\n",
      "\n",
      "          0       0.56      0.97      0.71      8632\n",
      "          1       0.00      0.00      0.00       156\n",
      "          2       0.00      0.00      0.00      1225\n",
      "          3       0.00      0.00      0.00      3858\n",
      "          4       0.72      0.62      0.67      7512\n",
      "\n",
      "avg / total       0.48      0.61      0.52     21383\n",
      "\n",
      "[[ 0.4904458   0.00188968  0.03555986  0.31590397  0.15620068]\n",
      " [ 0.03914637  0.00944749  0.12926211  0.18749163  0.6346524 ]\n",
      " [ 0.65277347  0.00463521  0.02637193  0.06263962  0.25357977]\n",
      " ..., \n",
      " [ 0.51755073  0.00255572  0.04352527  0.27061326  0.16575502]\n",
      " [ 0.07243515  0.0229778   0.09848969  0.03231524  0.77378212]\n",
      " [ 0.03383372  0.00699101  0.10744498  0.22225196  0.62947834]]\n"
     ]
    }
   ],
   "source": [
    "mdl_logistic = LogisticRegression()\n",
    "mdl_logistic.fit( xtrain, ytrain )\n",
    "print classification_report( ytrain, mdl_logistic.predict( xtrain ) )\n",
    "print mdl_logistic.predict_proba( xtrain )"
   ]
  },
  {
   "cell_type": "code",
   "execution_count": 49,
   "metadata": {
    "collapsed": true
   },
   "outputs": [],
   "source": [
    "# Can not distinct between rto and adpt\n",
    "# 1, 2 places share others' prob\n",
    "# ASP has highter score than ASPA"
   ]
  },
  {
   "cell_type": "markdown",
   "metadata": {
    "collapsed": true
   },
   "source": [
    "### OvR"
   ]
  },
  {
   "cell_type": "code",
   "execution_count": 60,
   "metadata": {
    "collapsed": false
   },
   "outputs": [
    {
     "name": "stdout",
     "output_type": "stream",
     "text": [
      "             precision    recall  f1-score   support\n",
      "\n",
      "          0       0.56      0.97      0.71      8632\n",
      "          1       0.00      0.00      0.00       156\n",
      "          2       0.00      0.00      0.00      1225\n",
      "          3       0.00      0.00      0.00      3858\n",
      "          4       0.72      0.62      0.67      7512\n",
      "\n",
      "avg / total       0.48      0.61      0.52     21383\n",
      "\n",
      "[[ 0.4904458   0.00188968  0.03555986  0.31590397  0.15620068]\n",
      " [ 0.03914637  0.00944749  0.12926211  0.18749163  0.6346524 ]\n",
      " [ 0.65277347  0.00463521  0.02637193  0.06263962  0.25357977]\n",
      " ..., \n",
      " [ 0.51755073  0.00255572  0.04352527  0.27061326  0.16575502]\n",
      " [ 0.07243515  0.0229778   0.09848969  0.03231524  0.77378212]\n",
      " [ 0.03383372  0.00699101  0.10744498  0.22225196  0.62947834]]\n",
      "train accuracy:  0.608427255296\n",
      "test accuracy:  0.605499438833\n",
      "submit score train:  0.998670180759\n",
      "submit score test:  1.00798702746\n"
     ]
    }
   ],
   "source": [
    "ovrclf = OneVsRestClassifier( LogisticRegression(), n_jobs = 5 )\n",
    "ovrclf.fit( xtrain, ytrain )\n",
    "print classification_report( ytrain, ovrclf.predict( xtrain ) )\n",
    "print ovrclf.predict_proba( xtrain )\n",
    "print 'train accuracy: ', ovrclf.score( xtrain, ytrain )\n",
    "print 'test accuracy: ', ovrclf.score( xtest, ytest )\n",
    "print 'submit score train: ', evaluation_SAO( ovrclf.predict_proba( xtrain ), ytolist( ytrain ) )\n",
    "print 'submit score test: ', evaluation_SAO( ovrclf.predict_proba( xtest ), ytolist( ytest ) )"
   ]
  },
  {
   "cell_type": "markdown",
   "metadata": {},
   "source": [
    "### Adoption vs Return to owner"
   ]
  },
  {
   "cell_type": "code",
   "execution_count": 84,
   "metadata": {
    "collapsed": false
   },
   "outputs": [],
   "source": [
    "avsr_df = train_df[ ['OutcomeType', 'AnimalType', 'AgeuponOutcome'] ]\n",
    "avsrs = avsr_df.groupby( 'OutcomeType' )"
   ]
  }
 ],
 "metadata": {
  "anaconda-cloud": {},
  "kernelspec": {
   "display_name": "Python [conda root]",
   "language": "python",
   "name": "conda-root-py"
  },
  "language_info": {
   "codemirror_mode": {
    "name": "ipython",
    "version": 2
   },
   "file_extension": ".py",
   "mimetype": "text/x-python",
   "name": "python",
   "nbconvert_exporter": "python",
   "pygments_lexer": "ipython2",
   "version": "2.7.12"
  }
 },
 "nbformat": 4,
 "nbformat_minor": 1
}
